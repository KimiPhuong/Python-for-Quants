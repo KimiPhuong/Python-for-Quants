{
 "cells": [
  {
   "cell_type": "markdown",
   "metadata": {},
   "source": [
    "<img style=\"float: right;\" width=\"120\" src=\"../Images/supplier-logo.png\">\n",
    "<img style=\"float: left; margin-top: 0\" width=\"80\" src=\"../Images/client-logo.png\">\n",
    "<br><br><br>\n"
   ]
  },
  {
   "cell_type": "markdown",
   "metadata": {},
   "source": [
    "# Overview"
   ]
  },
  {
   "cell_type": "markdown",
   "metadata": {},
   "source": [
    "Develop a model to predict the total dollar amount that customers are willing to pay given the following attributes: \n",
    "- Customer Name\n",
    "- Customer e-mail\n",
    "- Country\n",
    "- Gender\n",
    "- Age\n",
    "- Annual Salary \n",
    "- Credit Card Debt \n",
    "- Net Worth \n",
    "\n",
    "The model should predict: \n",
    "- Car Purchase Amount "
   ]
  },
  {
   "cell_type": "markdown",
   "metadata": {},
   "source": [
    "# Import the python packages\n"
   ]
  },
  {
   "cell_type": "code",
   "execution_count": 1,
   "metadata": {},
   "outputs": [],
   "source": [
    "import pandas as pd\n",
    "import numpy as np\n",
    "import matplotlib.pyplot as plt\n",
    "import seaborn as sns"
   ]
  },
  {
   "cell_type": "markdown",
   "metadata": {},
   "source": [
    "# Import the data"
   ]
  },
  {
   "cell_type": "code",
   "execution_count": 2,
   "metadata": {},
   "outputs": [],
   "source": [
    "df_cars = pd.read_excel(io='../Data/DL_DATA.xls', sheet_name = 'CARS')\n"
   ]
  },
  {
   "cell_type": "code",
   "execution_count": 3,
   "metadata": {
    "scrolled": true
   },
   "outputs": [
    {
     "data": {
      "text/html": [
       "<div>\n",
       "<style scoped>\n",
       "    .dataframe tbody tr th:only-of-type {\n",
       "        vertical-align: middle;\n",
       "    }\n",
       "\n",
       "    .dataframe tbody tr th {\n",
       "        vertical-align: top;\n",
       "    }\n",
       "\n",
       "    .dataframe thead th {\n",
       "        text-align: right;\n",
       "    }\n",
       "</style>\n",
       "<table border=\"1\" class=\"dataframe\">\n",
       "  <thead>\n",
       "    <tr style=\"text-align: right;\">\n",
       "      <th></th>\n",
       "      <th>Customer Name</th>\n",
       "      <th>Customer e-mail</th>\n",
       "      <th>Country</th>\n",
       "      <th>Gender</th>\n",
       "      <th>Age</th>\n",
       "      <th>Annual Salary</th>\n",
       "      <th>Credit Card Debt</th>\n",
       "      <th>Net Worth</th>\n",
       "      <th>Car Purchase Amount</th>\n",
       "    </tr>\n",
       "  </thead>\n",
       "  <tbody>\n",
       "    <tr>\n",
       "      <th>0</th>\n",
       "      <td>Martina Avila</td>\n",
       "      <td>cubilia.Curae.Phasellus@quisaccumsanconvallis.edu</td>\n",
       "      <td>Bulgaria</td>\n",
       "      <td>M</td>\n",
       "      <td>42</td>\n",
       "      <td>62812</td>\n",
       "      <td>11609</td>\n",
       "      <td>3490</td>\n",
       "      <td>35321</td>\n",
       "    </tr>\n",
       "    <tr>\n",
       "      <th>1</th>\n",
       "      <td>Harlan Barnes</td>\n",
       "      <td>eu.dolor@diam.co.uk</td>\n",
       "      <td>Belize</td>\n",
       "      <td>M</td>\n",
       "      <td>41</td>\n",
       "      <td>66647</td>\n",
       "      <td>9573</td>\n",
       "      <td>3703</td>\n",
       "      <td>45116</td>\n",
       "    </tr>\n",
       "    <tr>\n",
       "      <th>2</th>\n",
       "      <td>Naomi Rodriquez</td>\n",
       "      <td>vulputate.mauris.sagittis@ametconsectetueradip...</td>\n",
       "      <td>Algeria</td>\n",
       "      <td>F</td>\n",
       "      <td>43</td>\n",
       "      <td>53799</td>\n",
       "      <td>11160</td>\n",
       "      <td>2989</td>\n",
       "      <td>42926</td>\n",
       "    </tr>\n",
       "    <tr>\n",
       "      <th>3</th>\n",
       "      <td>Jade Cunningham</td>\n",
       "      <td>malesuada@dignissim.com</td>\n",
       "      <td>Cook Islands</td>\n",
       "      <td>F</td>\n",
       "      <td>58</td>\n",
       "      <td>79370</td>\n",
       "      <td>14426</td>\n",
       "      <td>4409</td>\n",
       "      <td>67422</td>\n",
       "    </tr>\n",
       "    <tr>\n",
       "      <th>4</th>\n",
       "      <td>Cedric Leach</td>\n",
       "      <td>felis.ullamcorper.viverra@egetmollislectus.net</td>\n",
       "      <td>Brazil</td>\n",
       "      <td>F</td>\n",
       "      <td>57</td>\n",
       "      <td>59729</td>\n",
       "      <td>5359</td>\n",
       "      <td>3318</td>\n",
       "      <td>55915</td>\n",
       "    </tr>\n",
       "    <tr>\n",
       "      <th>5</th>\n",
       "      <td>Carla Hester</td>\n",
       "      <td>mi@Aliquamerat.edu</td>\n",
       "      <td>Liberia</td>\n",
       "      <td>F</td>\n",
       "      <td>57</td>\n",
       "      <td>68500</td>\n",
       "      <td>14179</td>\n",
       "      <td>3806</td>\n",
       "      <td>56612</td>\n",
       "    </tr>\n",
       "    <tr>\n",
       "      <th>6</th>\n",
       "      <td>Griffin Rivera</td>\n",
       "      <td>vehicula@at.co.uk</td>\n",
       "      <td>Syria</td>\n",
       "      <td>F</td>\n",
       "      <td>47</td>\n",
       "      <td>39815</td>\n",
       "      <td>5958</td>\n",
       "      <td>2212</td>\n",
       "      <td>28926</td>\n",
       "    </tr>\n",
       "    <tr>\n",
       "      <th>7</th>\n",
       "      <td>Orli Casey</td>\n",
       "      <td>nunc.est.mollis@Suspendissetristiqueneque.co.uk</td>\n",
       "      <td>Czech Republic</td>\n",
       "      <td>F</td>\n",
       "      <td>50</td>\n",
       "      <td>51752</td>\n",
       "      <td>10986</td>\n",
       "      <td>2875</td>\n",
       "      <td>47435</td>\n",
       "    </tr>\n",
       "    <tr>\n",
       "      <th>8</th>\n",
       "      <td>Marny Obrien</td>\n",
       "      <td>Phasellus@sedsemegestas.org</td>\n",
       "      <td>Armenia</td>\n",
       "      <td>M</td>\n",
       "      <td>47</td>\n",
       "      <td>58139</td>\n",
       "      <td>3441</td>\n",
       "      <td>3230</td>\n",
       "      <td>48014</td>\n",
       "    </tr>\n",
       "    <tr>\n",
       "      <th>9</th>\n",
       "      <td>Rhonda Chavez</td>\n",
       "      <td>nec@nuncest.com</td>\n",
       "      <td>Somalia</td>\n",
       "      <td>F</td>\n",
       "      <td>43</td>\n",
       "      <td>53457</td>\n",
       "      <td>12884</td>\n",
       "      <td>2970</td>\n",
       "      <td>38190</td>\n",
       "    </tr>\n",
       "  </tbody>\n",
       "</table>\n",
       "</div>"
      ],
      "text/plain": [
       "     Customer Name                                    Customer e-mail  \\\n",
       "0    Martina Avila  cubilia.Curae.Phasellus@quisaccumsanconvallis.edu   \n",
       "1    Harlan Barnes                                eu.dolor@diam.co.uk   \n",
       "2  Naomi Rodriquez  vulputate.mauris.sagittis@ametconsectetueradip...   \n",
       "3  Jade Cunningham                            malesuada@dignissim.com   \n",
       "4     Cedric Leach     felis.ullamcorper.viverra@egetmollislectus.net   \n",
       "5     Carla Hester                                 mi@Aliquamerat.edu   \n",
       "6   Griffin Rivera                                  vehicula@at.co.uk   \n",
       "7       Orli Casey    nunc.est.mollis@Suspendissetristiqueneque.co.uk   \n",
       "8     Marny Obrien                        Phasellus@sedsemegestas.org   \n",
       "9    Rhonda Chavez                                    nec@nuncest.com   \n",
       "\n",
       "          Country Gender  Age  Annual Salary  Credit Card Debt  Net Worth  \\\n",
       "0        Bulgaria      M   42          62812             11609       3490   \n",
       "1          Belize      M   41          66647              9573       3703   \n",
       "2         Algeria      F   43          53799             11160       2989   \n",
       "3    Cook Islands      F   58          79370             14426       4409   \n",
       "4          Brazil      F   57          59729              5359       3318   \n",
       "5         Liberia      F   57          68500             14179       3806   \n",
       "6           Syria      F   47          39815              5958       2212   \n",
       "7  Czech Republic      F   50          51752             10986       2875   \n",
       "8         Armenia      M   47          58139              3441       3230   \n",
       "9         Somalia      F   43          53457             12884       2970   \n",
       "\n",
       "   Car Purchase Amount  \n",
       "0                35321  \n",
       "1                45116  \n",
       "2                42926  \n",
       "3                67422  \n",
       "4                55915  \n",
       "5                56612  \n",
       "6                28926  \n",
       "7                47435  \n",
       "8                48014  \n",
       "9                38190  "
      ]
     },
     "execution_count": 3,
     "metadata": {},
     "output_type": "execute_result"
    }
   ],
   "source": [
    "df_cars.head(10)"
   ]
  },
  {
   "cell_type": "markdown",
   "metadata": {},
   "source": [
    "# Explore the data"
   ]
  },
  {
   "cell_type": "code",
   "execution_count": 5,
   "metadata": {
    "tags": []
   },
   "outputs": [],
   "source": [
    "# sns.pairplot(df_cars)"
   ]
  },
  {
   "cell_type": "markdown",
   "metadata": {},
   "source": [
    "# Create Training and Test Data\n",
    "\n",
    ">\n",
    ">**X** - Matrix of independent variables (inputs)\n",
    ">\n",
    ">**y** - Dependent variable vector (outputs)\n",
    ">"
   ]
  },
  {
   "cell_type": "code",
   "execution_count": 7,
   "metadata": {},
   "outputs": [],
   "source": [
    "# Remove unwanted columns\n",
    "X = df_cars.drop(['Customer Name', 'Customer e-mail', 'Country', 'Car Purchase Amount'], axis = 1)"
   ]
  },
  {
   "cell_type": "code",
   "execution_count": 8,
   "metadata": {},
   "outputs": [
    {
     "data": {
      "text/html": [
       "<div>\n",
       "<style scoped>\n",
       "    .dataframe tbody tr th:only-of-type {\n",
       "        vertical-align: middle;\n",
       "    }\n",
       "\n",
       "    .dataframe tbody tr th {\n",
       "        vertical-align: top;\n",
       "    }\n",
       "\n",
       "    .dataframe thead th {\n",
       "        text-align: right;\n",
       "    }\n",
       "</style>\n",
       "<table border=\"1\" class=\"dataframe\">\n",
       "  <thead>\n",
       "    <tr style=\"text-align: right;\">\n",
       "      <th></th>\n",
       "      <th>Gender</th>\n",
       "      <th>Age</th>\n",
       "      <th>Annual Salary</th>\n",
       "      <th>Credit Card Debt</th>\n",
       "      <th>Net Worth</th>\n",
       "    </tr>\n",
       "  </thead>\n",
       "  <tbody>\n",
       "    <tr>\n",
       "      <th>0</th>\n",
       "      <td>M</td>\n",
       "      <td>42</td>\n",
       "      <td>62812</td>\n",
       "      <td>11609</td>\n",
       "      <td>3490</td>\n",
       "    </tr>\n",
       "    <tr>\n",
       "      <th>1</th>\n",
       "      <td>M</td>\n",
       "      <td>41</td>\n",
       "      <td>66647</td>\n",
       "      <td>9573</td>\n",
       "      <td>3703</td>\n",
       "    </tr>\n",
       "    <tr>\n",
       "      <th>2</th>\n",
       "      <td>F</td>\n",
       "      <td>43</td>\n",
       "      <td>53799</td>\n",
       "      <td>11160</td>\n",
       "      <td>2989</td>\n",
       "    </tr>\n",
       "    <tr>\n",
       "      <th>3</th>\n",
       "      <td>F</td>\n",
       "      <td>58</td>\n",
       "      <td>79370</td>\n",
       "      <td>14426</td>\n",
       "      <td>4409</td>\n",
       "    </tr>\n",
       "    <tr>\n",
       "      <th>4</th>\n",
       "      <td>F</td>\n",
       "      <td>57</td>\n",
       "      <td>59729</td>\n",
       "      <td>5359</td>\n",
       "      <td>3318</td>\n",
       "    </tr>\n",
       "    <tr>\n",
       "      <th>...</th>\n",
       "      <td>...</td>\n",
       "      <td>...</td>\n",
       "      <td>...</td>\n",
       "      <td>...</td>\n",
       "      <td>...</td>\n",
       "    </tr>\n",
       "    <tr>\n",
       "      <th>495</th>\n",
       "      <td>M</td>\n",
       "      <td>41</td>\n",
       "      <td>71942</td>\n",
       "      <td>6996</td>\n",
       "      <td>3997</td>\n",
       "    </tr>\n",
       "    <tr>\n",
       "      <th>496</th>\n",
       "      <td>F</td>\n",
       "      <td>38</td>\n",
       "      <td>56039</td>\n",
       "      <td>12301</td>\n",
       "      <td>3113</td>\n",
       "    </tr>\n",
       "    <tr>\n",
       "      <th>497</th>\n",
       "      <td>F</td>\n",
       "      <td>54</td>\n",
       "      <td>68889</td>\n",
       "      <td>10612</td>\n",
       "      <td>3827</td>\n",
       "    </tr>\n",
       "    <tr>\n",
       "      <th>498</th>\n",
       "      <td>F</td>\n",
       "      <td>59</td>\n",
       "      <td>49812</td>\n",
       "      <td>14013</td>\n",
       "      <td>2767</td>\n",
       "    </tr>\n",
       "    <tr>\n",
       "      <th>499</th>\n",
       "      <td>F</td>\n",
       "      <td>47</td>\n",
       "      <td>61371</td>\n",
       "      <td>9391</td>\n",
       "      <td>3410</td>\n",
       "    </tr>\n",
       "  </tbody>\n",
       "</table>\n",
       "<p>500 rows × 5 columns</p>\n",
       "</div>"
      ],
      "text/plain": [
       "    Gender  Age  Annual Salary  Credit Card Debt  Net Worth\n",
       "0        M   42          62812             11609       3490\n",
       "1        M   41          66647              9573       3703\n",
       "2        F   43          53799             11160       2989\n",
       "3        F   58          79370             14426       4409\n",
       "4        F   57          59729              5359       3318\n",
       "..     ...  ...            ...               ...        ...\n",
       "495      M   41          71942              6996       3997\n",
       "496      F   38          56039             12301       3113\n",
       "497      F   54          68889             10612       3827\n",
       "498      F   59          49812             14013       2767\n",
       "499      F   47          61371              9391       3410\n",
       "\n",
       "[500 rows x 5 columns]"
      ]
     },
     "execution_count": 8,
     "metadata": {},
     "output_type": "execute_result"
    }
   ],
   "source": [
    "X"
   ]
  },
  {
   "cell_type": "markdown",
   "metadata": {},
   "source": [
    "## Encode the `Gender` column\n",
    "\n",
    ">\n",
    ">`M` ==> 0\n",
    ">\n",
    ">`F` ==> 1\n",
    ">"
   ]
  },
  {
   "cell_type": "code",
   "execution_count": 9,
   "metadata": {},
   "outputs": [
    {
     "data": {
      "text/html": [
       "<div>\n",
       "<style scoped>\n",
       "    .dataframe tbody tr th:only-of-type {\n",
       "        vertical-align: middle;\n",
       "    }\n",
       "\n",
       "    .dataframe tbody tr th {\n",
       "        vertical-align: top;\n",
       "    }\n",
       "\n",
       "    .dataframe thead th {\n",
       "        text-align: right;\n",
       "    }\n",
       "</style>\n",
       "<table border=\"1\" class=\"dataframe\">\n",
       "  <thead>\n",
       "    <tr style=\"text-align: right;\">\n",
       "      <th></th>\n",
       "      <th>Gender</th>\n",
       "      <th>Age</th>\n",
       "      <th>Annual Salary</th>\n",
       "      <th>Credit Card Debt</th>\n",
       "      <th>Net Worth</th>\n",
       "    </tr>\n",
       "  </thead>\n",
       "  <tbody>\n",
       "    <tr>\n",
       "      <th>0</th>\n",
       "      <td>0.0</td>\n",
       "      <td>42</td>\n",
       "      <td>62812</td>\n",
       "      <td>11609</td>\n",
       "      <td>3490</td>\n",
       "    </tr>\n",
       "    <tr>\n",
       "      <th>1</th>\n",
       "      <td>0.0</td>\n",
       "      <td>41</td>\n",
       "      <td>66647</td>\n",
       "      <td>9573</td>\n",
       "      <td>3703</td>\n",
       "    </tr>\n",
       "    <tr>\n",
       "      <th>2</th>\n",
       "      <td>1.0</td>\n",
       "      <td>43</td>\n",
       "      <td>53799</td>\n",
       "      <td>11160</td>\n",
       "      <td>2989</td>\n",
       "    </tr>\n",
       "    <tr>\n",
       "      <th>3</th>\n",
       "      <td>1.0</td>\n",
       "      <td>58</td>\n",
       "      <td>79370</td>\n",
       "      <td>14426</td>\n",
       "      <td>4409</td>\n",
       "    </tr>\n",
       "    <tr>\n",
       "      <th>4</th>\n",
       "      <td>1.0</td>\n",
       "      <td>57</td>\n",
       "      <td>59729</td>\n",
       "      <td>5359</td>\n",
       "      <td>3318</td>\n",
       "    </tr>\n",
       "    <tr>\n",
       "      <th>...</th>\n",
       "      <td>...</td>\n",
       "      <td>...</td>\n",
       "      <td>...</td>\n",
       "      <td>...</td>\n",
       "      <td>...</td>\n",
       "    </tr>\n",
       "    <tr>\n",
       "      <th>495</th>\n",
       "      <td>0.0</td>\n",
       "      <td>41</td>\n",
       "      <td>71942</td>\n",
       "      <td>6996</td>\n",
       "      <td>3997</td>\n",
       "    </tr>\n",
       "    <tr>\n",
       "      <th>496</th>\n",
       "      <td>1.0</td>\n",
       "      <td>38</td>\n",
       "      <td>56039</td>\n",
       "      <td>12301</td>\n",
       "      <td>3113</td>\n",
       "    </tr>\n",
       "    <tr>\n",
       "      <th>497</th>\n",
       "      <td>1.0</td>\n",
       "      <td>54</td>\n",
       "      <td>68889</td>\n",
       "      <td>10612</td>\n",
       "      <td>3827</td>\n",
       "    </tr>\n",
       "    <tr>\n",
       "      <th>498</th>\n",
       "      <td>1.0</td>\n",
       "      <td>59</td>\n",
       "      <td>49812</td>\n",
       "      <td>14013</td>\n",
       "      <td>2767</td>\n",
       "    </tr>\n",
       "    <tr>\n",
       "      <th>499</th>\n",
       "      <td>1.0</td>\n",
       "      <td>47</td>\n",
       "      <td>61371</td>\n",
       "      <td>9391</td>\n",
       "      <td>3410</td>\n",
       "    </tr>\n",
       "  </tbody>\n",
       "</table>\n",
       "<p>500 rows × 5 columns</p>\n",
       "</div>"
      ],
      "text/plain": [
       "     Gender  Age  Annual Salary  Credit Card Debt  Net Worth\n",
       "0       0.0   42          62812             11609       3490\n",
       "1       0.0   41          66647              9573       3703\n",
       "2       1.0   43          53799             11160       2989\n",
       "3       1.0   58          79370             14426       4409\n",
       "4       1.0   57          59729              5359       3318\n",
       "..      ...  ...            ...               ...        ...\n",
       "495     0.0   41          71942              6996       3997\n",
       "496     1.0   38          56039             12301       3113\n",
       "497     1.0   54          68889             10612       3827\n",
       "498     1.0   59          49812             14013       2767\n",
       "499     1.0   47          61371              9391       3410\n",
       "\n",
       "[500 rows x 5 columns]"
      ]
     },
     "execution_count": 9,
     "metadata": {},
     "output_type": "execute_result"
    }
   ],
   "source": [
    "from sklearn.compose import make_column_transformer\n",
    "from sklearn.preprocessing import OneHotEncoder\n",
    "\n",
    "preprocessor = make_column_transformer( (OneHotEncoder(categories='auto'),[0]),remainder=\"passthrough\")\n",
    "X['Gender'] = preprocessor.fit_transform(X)\n",
    "X"
   ]
  },
  {
   "cell_type": "code",
   "execution_count": 21,
   "metadata": {},
   "outputs": [
    {
     "data": {
      "text/plain": [
       "0      35321\n",
       "1      45116\n",
       "2      42926\n",
       "3      67422\n",
       "4      55915\n",
       "       ...  \n",
       "495    48901\n",
       "496    31491\n",
       "497    64147\n",
       "498    45442\n",
       "499    45107\n",
       "Name: Car Purchase Amount, Length: 500, dtype: int64"
      ]
     },
     "execution_count": 21,
     "metadata": {},
     "output_type": "execute_result"
    }
   ],
   "source": [
    "y = df_cars['Car Purchase Amount']\n",
    "y"
   ]
  },
  {
   "cell_type": "markdown",
   "metadata": {},
   "source": [
    "## Feature Scaling\n",
    "\n",
    "Use `MinMaxScaler` to scale/normalize model to values between 0 and 1"
   ]
  },
  {
   "cell_type": "code",
   "execution_count": 13,
   "metadata": {},
   "outputs": [
    {
     "data": {
      "text/plain": [
       "array([[0.        , 0.44      , 0.53515   , 0.57834171, 0.5352081 ],\n",
       "       [0.        , 0.42      , 0.5830875 , 0.47603015, 0.58312711],\n",
       "       [1.        , 0.46      , 0.4224875 , 0.55577889, 0.42249719],\n",
       "       ...,\n",
       "       [1.        , 0.68      , 0.6111125 , 0.52824121, 0.61102362],\n",
       "       [1.        , 0.78      , 0.37265   , 0.69914573, 0.37255343],\n",
       "       [1.        , 0.54      , 0.5171375 , 0.46688442, 0.51721035]])"
      ]
     },
     "execution_count": 13,
     "metadata": {},
     "output_type": "execute_result"
    }
   ],
   "source": [
    "from sklearn.preprocessing import MinMaxScaler\n",
    "\n",
    "X_scaler = MinMaxScaler().fit(X)\n",
    "X_scaled = X_scaler.transform(X)\n",
    "\n",
    "X_scaled"
   ]
  },
  {
   "cell_type": "code",
   "execution_count": 14,
   "metadata": {},
   "outputs": [
    {
     "data": {
      "text/plain": [
       "array([1.000e+00, 7.000e+01, 1.000e+05, 2.000e+04, 5.556e+03])"
      ]
     },
     "execution_count": 14,
     "metadata": {},
     "output_type": "execute_result"
    }
   ],
   "source": [
    "X_scaler.data_max_"
   ]
  },
  {
   "cell_type": "code",
   "execution_count": 15,
   "metadata": {},
   "outputs": [
    {
     "data": {
      "text/plain": [
       "array([    0.,    20., 20000.,   100.,  1111.])"
      ]
     },
     "execution_count": 15,
     "metadata": {},
     "output_type": "execute_result"
    }
   ],
   "source": [
    "X_scaler.data_min_"
   ]
  },
  {
   "cell_type": "code",
   "execution_count": 16,
   "metadata": {},
   "outputs": [
    {
     "data": {
      "text/plain": [
       "(500,)"
      ]
     },
     "execution_count": 16,
     "metadata": {},
     "output_type": "execute_result"
    }
   ],
   "source": [
    "y.shape"
   ]
  },
  {
   "cell_type": "code",
   "execution_count": 22,
   "metadata": {},
   "outputs": [
    {
     "data": {
      "text/plain": [
       "(500, 1)"
      ]
     },
     "execution_count": 22,
     "metadata": {},
     "output_type": "execute_result"
    }
   ],
   "source": [
    "y = y.values.reshape(-1,1)\n",
    "\n",
    "y.shape"
   ]
  },
  {
   "cell_type": "code",
   "execution_count": 23,
   "metadata": {},
   "outputs": [
    {
     "data": {
      "text/plain": [
       "numpy.ndarray"
      ]
     },
     "execution_count": 23,
     "metadata": {},
     "output_type": "execute_result"
    }
   ],
   "source": [
    "type(y)"
   ]
  },
  {
   "cell_type": "code",
   "execution_count": 24,
   "metadata": {
    "scrolled": true,
    "tags": []
   },
   "outputs": [
    {
     "data": {
      "text/plain": [
       "array([[0.37071831],\n",
       "       [0.50867606],\n",
       "       [0.47783099],\n",
       "       [0.82284507],\n",
       "       [0.66077465],\n",
       "       [0.67059155],\n",
       "       [0.28064789],\n",
       "       [0.54133803],\n",
       "       [0.54949296],\n",
       "       [0.41112676],\n",
       "       [0.70487324],\n",
       "       [0.46885915],\n",
       "       [0.27746479],\n",
       "       [0.56702817],\n",
       "       [0.57056338],\n",
       "       [0.61995775],\n",
       "       [0.4621831 ],\n",
       "       [0.49157746],\n",
       "       [0.50188732],\n",
       "       [0.64546479],\n",
       "       [0.59339437],\n",
       "       [0.48453521],\n",
       "       [0.53860563],\n",
       "       [0.53007042],\n",
       "       [0.50814085],\n",
       "       [0.49842254],\n",
       "       [0.39664789],\n",
       "       [0.56467606],\n",
       "       [0.69507042],\n",
       "       [0.49287324],\n",
       "       [0.12091549],\n",
       "       [0.50211268],\n",
       "       [0.80794366],\n",
       "       [0.62660563],\n",
       "       [0.43394366],\n",
       "       [0.60016901],\n",
       "       [0.42223944],\n",
       "       [0.01538028],\n",
       "       [0.37928169],\n",
       "       [0.64539437],\n",
       "       [0.51839437],\n",
       "       [0.45869014],\n",
       "       [0.26804225],\n",
       "       [0.26501408],\n",
       "       [0.84053521],\n",
       "       [0.84401408],\n",
       "       [0.35515493],\n",
       "       [0.40623944],\n",
       "       [0.40680282],\n",
       "       [0.5596338 ],\n",
       "       [0.25615493],\n",
       "       [0.77095775],\n",
       "       [0.55305634],\n",
       "       [0.52649296],\n",
       "       [0.32364789],\n",
       "       [0.55070423],\n",
       "       [0.54057746],\n",
       "       [0.45669014],\n",
       "       [0.41053521],\n",
       "       [0.33433803],\n",
       "       [0.39926761],\n",
       "       [0.54202817],\n",
       "       [0.57367606],\n",
       "       [0.43794366],\n",
       "       [0.46898592],\n",
       "       [0.61908451],\n",
       "       [0.55076056],\n",
       "       [0.48846479],\n",
       "       [0.61560563],\n",
       "       [0.56891549],\n",
       "       [0.30761972],\n",
       "       [0.5686338 ],\n",
       "       [0.46343662],\n",
       "       [0.50787324],\n",
       "       [0.61960563],\n",
       "       [0.59095775],\n",
       "       [0.45573239],\n",
       "       [0.49908451],\n",
       "       [0.41552113],\n",
       "       [0.4538169 ],\n",
       "       [0.41407042],\n",
       "       [0.45714085],\n",
       "       [0.30133803],\n",
       "       [0.47019718],\n",
       "       [0.42256338],\n",
       "       [0.1486338 ],\n",
       "       [0.50939437],\n",
       "       [0.38056338],\n",
       "       [0.59067606],\n",
       "       [0.05487324],\n",
       "       [0.42190141],\n",
       "       [0.59466197],\n",
       "       [0.23904225],\n",
       "       [0.72774648],\n",
       "       [0.63485915],\n",
       "       [0.43669014],\n",
       "       [0.74076056],\n",
       "       [0.42961972],\n",
       "       [0.61232394],\n",
       "       [0.46743662],\n",
       "       [0.68226761],\n",
       "       [0.19270423],\n",
       "       [0.34705634],\n",
       "       [0.31747887],\n",
       "       [0.72480282],\n",
       "       [0.51743662],\n",
       "       [0.36343662],\n",
       "       [0.36116901],\n",
       "       [0.26178873],\n",
       "       [0.64750704],\n",
       "       [0.56539437],\n",
       "       [0.70198592],\n",
       "       [0.6803662 ],\n",
       "       [0.6048169 ],\n",
       "       [0.29916901],\n",
       "       [0.81860563],\n",
       "       [0.47053521],\n",
       "       [0.45707042],\n",
       "       [0.47314085],\n",
       "       [0.3594507 ],\n",
       "       [0.46780282],\n",
       "       [0.46357746],\n",
       "       [0.71008451],\n",
       "       [0.59722535],\n",
       "       [0.64443662],\n",
       "       [0.53722535],\n",
       "       [0.78016901],\n",
       "       [0.39792958],\n",
       "       [0.615     ],\n",
       "       [0.49297183],\n",
       "       [0.59932394],\n",
       "       [0.41188732],\n",
       "       [0.43333803],\n",
       "       [0.43771831],\n",
       "       [0.33988732],\n",
       "       [0.55807042],\n",
       "       [0.54497183],\n",
       "       [0.42830986],\n",
       "       [0.34405634],\n",
       "       [0.33380282],\n",
       "       [0.75864789],\n",
       "       [0.28769014],\n",
       "       [0.49885915],\n",
       "       [0.38938028],\n",
       "       [0.62895775],\n",
       "       [0.52080282],\n",
       "       [0.4155493 ],\n",
       "       [0.54839437],\n",
       "       [0.72143662],\n",
       "       [0.42156338],\n",
       "       [0.26492958],\n",
       "       [0.54371831],\n",
       "       [0.4698169 ],\n",
       "       [0.31409859],\n",
       "       [0.47      ],\n",
       "       [0.32164789],\n",
       "       [0.24646479],\n",
       "       [0.41088732],\n",
       "       [0.4286338 ],\n",
       "       [0.40442254],\n",
       "       [0.6778169 ],\n",
       "       [0.52750704],\n",
       "       [0.49091549],\n",
       "       [0.65623944],\n",
       "       [0.47160563],\n",
       "       [0.449     ],\n",
       "       [0.16412676],\n",
       "       [0.37238028],\n",
       "       [0.38187324],\n",
       "       [0.41101408],\n",
       "       [0.45107042],\n",
       "       [0.26605634],\n",
       "       [0.48907042],\n",
       "       [0.68212676],\n",
       "       [0.45216901],\n",
       "       [0.56409859],\n",
       "       [0.4544507 ],\n",
       "       [0.78232394],\n",
       "       [0.28242254],\n",
       "       [0.30591549],\n",
       "       [0.41919718],\n",
       "       [0.42719718],\n",
       "       [0.33250704],\n",
       "       [0.69078873],\n",
       "       [0.63925352],\n",
       "       [0.38926761],\n",
       "       [0.42988732],\n",
       "       [0.47856338],\n",
       "       [0.73050704],\n",
       "       [0.52647887],\n",
       "       [0.67014085],\n",
       "       [0.47569014],\n",
       "       [0.40676056],\n",
       "       [0.50997183],\n",
       "       [0.66519718],\n",
       "       [0.58387324],\n",
       "       [0.57353521],\n",
       "       [0.31967606],\n",
       "       [0.56647887],\n",
       "       [0.52378873],\n",
       "       [0.38150704],\n",
       "       [0.48259155],\n",
       "       [0.44591549],\n",
       "       [0.6011831 ],\n",
       "       [0.50035211],\n",
       "       [0.55660563],\n",
       "       [0.51838028],\n",
       "       [0.64577465],\n",
       "       [0.33067606],\n",
       "       [0.46773239],\n",
       "       [0.64966197],\n",
       "       [0.54907042],\n",
       "       [0.48459155],\n",
       "       [0.50108451],\n",
       "       [0.40485915],\n",
       "       [0.5465493 ],\n",
       "       [0.50488732],\n",
       "       [0.5301831 ],\n",
       "       [0.66991549],\n",
       "       [0.4601831 ],\n",
       "       [0.73405634],\n",
       "       [0.39864789],\n",
       "       [0.53369014],\n",
       "       [0.66842254],\n",
       "       [0.51422535],\n",
       "       [0.26232394],\n",
       "       [0.52661972],\n",
       "       [0.28171831],\n",
       "       [0.59656338],\n",
       "       [0.46494366],\n",
       "       [0.61484507],\n",
       "       [0.49905634],\n",
       "       [0.52190141],\n",
       "       [0.6934507 ],\n",
       "       [0.47873239],\n",
       "       [0.58735211],\n",
       "       [0.53535211],\n",
       "       [0.56901408],\n",
       "       [0.47883099],\n",
       "       [0.49908451],\n",
       "       [0.52571831],\n",
       "       [0.53305634],\n",
       "       [0.669     ],\n",
       "       [0.47569014],\n",
       "       [0.61005634],\n",
       "       [0.35408451],\n",
       "       [0.72905634],\n",
       "       [0.80505634],\n",
       "       [0.31290141],\n",
       "       [0.52302817],\n",
       "       [0.67567606],\n",
       "       [0.21385915],\n",
       "       [0.56450704],\n",
       "       [0.39569014],\n",
       "       [0.48453521],\n",
       "       [0.28298592],\n",
       "       [0.55421127],\n",
       "       [0.34170423],\n",
       "       [0.45530986],\n",
       "       [0.56811268],\n",
       "       [0.59726761],\n",
       "       [0.31338028],\n",
       "       [0.48730986],\n",
       "       [0.55352113],\n",
       "       [0.63398592],\n",
       "       [0.41795775],\n",
       "       [0.3954507 ],\n",
       "       [0.40771831],\n",
       "       [0.45521127],\n",
       "       [0.81533803],\n",
       "       [0.0498169 ],\n",
       "       [0.43026761],\n",
       "       [0.61561972],\n",
       "       [0.62680282],\n",
       "       [0.60728169],\n",
       "       [0.41839437],\n",
       "       [0.54964789],\n",
       "       [0.71104225],\n",
       "       [0.37904225],\n",
       "       [0.4511831 ],\n",
       "       [0.60183099],\n",
       "       [0.62002817],\n",
       "       [0.33560563],\n",
       "       [0.28757746],\n",
       "       [0.68256338],\n",
       "       [0.58369014],\n",
       "       [0.45880282],\n",
       "       [0.52692958],\n",
       "       [0.54380282],\n",
       "       [0.87152113],\n",
       "       [0.65553521],\n",
       "       [0.63167606],\n",
       "       [0.43528169],\n",
       "       [0.50332394],\n",
       "       [0.53432394],\n",
       "       [0.2738169 ],\n",
       "       [0.41053521],\n",
       "       [0.47532394],\n",
       "       [0.29114085],\n",
       "       [0.76109859],\n",
       "       [0.76407042],\n",
       "       [0.46932394],\n",
       "       [0.49947887],\n",
       "       [0.81819718],\n",
       "       [0.18438028],\n",
       "       [0.43692958],\n",
       "       [0.66298592],\n",
       "       [0.56960563],\n",
       "       [0.47180282],\n",
       "       [0.39556338],\n",
       "       [0.60374648],\n",
       "       [0.37628169],\n",
       "       [0.43511268],\n",
       "       [0.37719718],\n",
       "       [0.47698592],\n",
       "       [1.        ],\n",
       "       [0.72573239],\n",
       "       [0.71491549],\n",
       "       [0.43107042],\n",
       "       [0.6991831 ],\n",
       "       [0.61949296],\n",
       "       [0.58685915],\n",
       "       [0.71302817],\n",
       "       [0.19197183],\n",
       "       [0.45264789],\n",
       "       [0.62670423],\n",
       "       [0.38794366],\n",
       "       [0.48597183],\n",
       "       [0.31192958],\n",
       "       [0.31726761],\n",
       "       [0.31104225],\n",
       "       [0.51219718],\n",
       "       [0.22891549],\n",
       "       [0.43505634],\n",
       "       [0.60902817],\n",
       "       [0.43538028],\n",
       "       [0.51912676],\n",
       "       [0.30740845],\n",
       "       [0.42849296],\n",
       "       [0.36167606],\n",
       "       [0.20447887],\n",
       "       [0.27794366],\n",
       "       [0.70557746],\n",
       "       [0.58012676],\n",
       "       [0.37547887],\n",
       "       [0.52673239],\n",
       "       [0.32804225],\n",
       "       [0.56449296],\n",
       "       [0.56829577],\n",
       "       [0.45673239],\n",
       "       [0.21439437],\n",
       "       [0.49892958],\n",
       "       [0.72380282],\n",
       "       [0.47597183],\n",
       "       [0.53430986],\n",
       "       [0.69953521],\n",
       "       [0.40905634],\n",
       "       [0.42635211],\n",
       "       [0.64233803],\n",
       "       [0.42371831],\n",
       "       [0.54907042],\n",
       "       [0.52229577],\n",
       "       [0.30935211],\n",
       "       [0.37643662],\n",
       "       [0.56429577],\n",
       "       [0.56276056],\n",
       "       [0.39694366],\n",
       "       [0.53114085],\n",
       "       [0.61816901],\n",
       "       [0.29232394],\n",
       "       [0.73184507],\n",
       "       [0.43626761],\n",
       "       [0.41614085],\n",
       "       [0.67273239],\n",
       "       [0.76169014],\n",
       "       [0.65776056],\n",
       "       [0.3854507 ],\n",
       "       [0.6123662 ],\n",
       "       [0.58164789],\n",
       "       [0.39802817],\n",
       "       [0.54529577],\n",
       "       [0.28930986],\n",
       "       [0.72629577],\n",
       "       [0.38204225],\n",
       "       [0.68033803],\n",
       "       [0.60453521],\n",
       "       [0.37815493],\n",
       "       [0.47470423],\n",
       "       [0.65035211],\n",
       "       [0.24788732],\n",
       "       [0.63370423],\n",
       "       [0.54888732],\n",
       "       [0.48791549],\n",
       "       [0.46028169],\n",
       "       [0.76253521],\n",
       "       [0.3064507 ],\n",
       "       [0.79707042],\n",
       "       [0.40664789],\n",
       "       [0.47774648],\n",
       "       [0.19153521],\n",
       "       [0.86759155],\n",
       "       [0.48229577],\n",
       "       [0.41040845],\n",
       "       [0.30169014],\n",
       "       [0.77280282],\n",
       "       [0.5086338 ],\n",
       "       [0.49805634],\n",
       "       [0.14823944],\n",
       "       [0.57735211],\n",
       "       [0.74270423],\n",
       "       [0.46153521],\n",
       "       [0.52680282],\n",
       "       [0.39967606],\n",
       "       [0.34883099],\n",
       "       [0.3051831 ],\n",
       "       [0.60642254],\n",
       "       [0.30615493],\n",
       "       [0.42871831],\n",
       "       [0.41091549],\n",
       "       [0.44492958],\n",
       "       [0.74688732],\n",
       "       [0.55584507],\n",
       "       [0.43795775],\n",
       "       [0.57138028],\n",
       "       [0.31561972],\n",
       "       [0.54533803],\n",
       "       [0.37723944],\n",
       "       [0.4775493 ],\n",
       "       [0.55657746],\n",
       "       [0.51540845],\n",
       "       [0.3248169 ],\n",
       "       [0.32687324],\n",
       "       [0.37288732],\n",
       "       [0.28901408],\n",
       "       [0.6538169 ],\n",
       "       [0.46676056],\n",
       "       [0.58507042],\n",
       "       [0.36509859],\n",
       "       [0.49152113],\n",
       "       [0.42443662],\n",
       "       [0.45277465],\n",
       "       [0.21316901],\n",
       "       [0.47471831],\n",
       "       [0.42115493],\n",
       "       [0.27669014],\n",
       "       [0.60774648],\n",
       "       [0.81194366],\n",
       "       [0.47759155],\n",
       "       [0.56687324],\n",
       "       [0.25778873],\n",
       "       [0.54746479],\n",
       "       [0.71808451],\n",
       "       [0.51085915],\n",
       "       [0.        ],\n",
       "       [0.52129577],\n",
       "       [0.33756338],\n",
       "       [0.56035211],\n",
       "       [0.51866197],\n",
       "       [0.43805634],\n",
       "       [0.3726338 ],\n",
       "       [0.28953521],\n",
       "       [0.41187324],\n",
       "       [0.49902817],\n",
       "       [0.59219718],\n",
       "       [0.61366197],\n",
       "       [0.73808451],\n",
       "       [0.27414085],\n",
       "       [0.26177465],\n",
       "       [0.549     ],\n",
       "       [0.26992958],\n",
       "       [0.85449296],\n",
       "       [0.55004225],\n",
       "       [0.39949296],\n",
       "       [0.50001408],\n",
       "       [0.36815493],\n",
       "       [0.65023944],\n",
       "       [0.55470423],\n",
       "       [0.37780282],\n",
       "       [0.38757746],\n",
       "       [0.62128169],\n",
       "       [0.62040845],\n",
       "       [0.17564789],\n",
       "       [0.50726761],\n",
       "       [0.65321127],\n",
       "       [0.66915493],\n",
       "       [0.54146479],\n",
       "       [0.45760563],\n",
       "       [0.33174648],\n",
       "       [0.46457746],\n",
       "       [0.71180282],\n",
       "       [0.45566197],\n",
       "       [0.61669014],\n",
       "       [0.71997183],\n",
       "       [0.54592958],\n",
       "       [0.77729577],\n",
       "       [0.56198592],\n",
       "       [0.31677465],\n",
       "       [0.77671831],\n",
       "       [0.51326761],\n",
       "       [0.5085493 ]])"
      ]
     },
     "execution_count": 24,
     "metadata": {},
     "output_type": "execute_result"
    }
   ],
   "source": [
    "y_scaler = MinMaxScaler().fit(y)\n",
    "y_scaled = y_scaler.transform(y)\n",
    "y_scaled"
   ]
  },
  {
   "cell_type": "markdown",
   "metadata": {},
   "source": [
    "## Split Data into Test and Training"
   ]
  },
  {
   "cell_type": "code",
   "execution_count": 25,
   "metadata": {},
   "outputs": [],
   "source": [
    "from sklearn.model_selection import train_test_split\n",
    "X_train, X_test, y_train, y_test = train_test_split(X_scaled, y_scaled)"
   ]
  },
  {
   "cell_type": "code",
   "execution_count": 26,
   "metadata": {},
   "outputs": [
    {
     "data": {
      "text/plain": [
       "(500, 5)"
      ]
     },
     "execution_count": 26,
     "metadata": {},
     "output_type": "execute_result"
    }
   ],
   "source": [
    "X_scaled.shape"
   ]
  },
  {
   "cell_type": "code",
   "execution_count": 27,
   "metadata": {},
   "outputs": [
    {
     "data": {
      "text/plain": [
       "(375, 5)"
      ]
     },
     "execution_count": 27,
     "metadata": {},
     "output_type": "execute_result"
    }
   ],
   "source": [
    "X_train.shape"
   ]
  },
  {
   "cell_type": "code",
   "execution_count": 28,
   "metadata": {},
   "outputs": [
    {
     "data": {
      "text/plain": [
       "(125, 5)"
      ]
     },
     "execution_count": 28,
     "metadata": {},
     "output_type": "execute_result"
    }
   ],
   "source": [
    "X_test.shape"
   ]
  },
  {
   "cell_type": "markdown",
   "metadata": {},
   "source": [
    "# Train the model\n",
    "\n",
    "Useing Keras to build the network \n",
    "- Sequentially (from left to right)\n",
    "- Dense - all outputs are fully connected to next layer(hidden)\n",
    "\n",
    "**Dense**\n",
    "- input_dim - how many inputs (age, gender, etc)\n",
    "- units - how many neurons in the first layer\n",
    "- activation - rulu, sigmoid etc\n",
    "\n"
   ]
  },
  {
   "cell_type": "code",
   "execution_count": 29,
   "metadata": {},
   "outputs": [],
   "source": [
    "from tensorflow.keras import Sequential\n",
    "from tensorflow.keras.layers import Dense\n",
    "\n",
    "model = Sequential()\n",
    "\n",
    "# First Hidden Layer\n",
    "layer1 = Dense(units = 7, input_dim=5, activation='relu')\n",
    "model.add(layer1)\n",
    "\n",
    "# Additional Hidden Layer - no need to specify input_dim here, Keras figures this out\n",
    "layer2 = Dense(units=7, activation='relu')\n",
    "model.add(layer2)\n",
    "\n",
    "# THird Hidden Layer\n",
    "layer3 = Dense(units = 7,  activation='relu')\n",
    "model.add(layer3)\n",
    "\n",
    "# Specify the output (units = 1)\n",
    "model.add(Dense(units = 1, activation='linear'))\n"
   ]
  },
  {
   "cell_type": "code",
   "execution_count": 30,
   "metadata": {},
   "outputs": [
    {
     "name": "stdout",
     "output_type": "stream",
     "text": [
      "Model: \"sequential\"\n",
      "_________________________________________________________________\n",
      "Layer (type)                 Output Shape              Param #   \n",
      "=================================================================\n",
      "dense (Dense)                (None, 7)                 42        \n",
      "_________________________________________________________________\n",
      "dense_1 (Dense)              (None, 7)                 56        \n",
      "_________________________________________________________________\n",
      "dense_2 (Dense)              (None, 7)                 56        \n",
      "_________________________________________________________________\n",
      "dense_3 (Dense)              (None, 1)                 8         \n",
      "=================================================================\n",
      "Total params: 162\n",
      "Trainable params: 162\n",
      "Non-trainable params: 0\n",
      "_________________________________________________________________\n"
     ]
    }
   ],
   "source": [
    "model.summary()"
   ]
  },
  {
   "cell_type": "code",
   "execution_count": 31,
   "metadata": {},
   "outputs": [],
   "source": [
    "model.compile(optimizer='adam', loss='mean_squared_error')\n"
   ]
  },
  {
   "cell_type": "markdown",
   "metadata": {},
   "source": [
    "## Train (fit) the model\n",
    "\n",
    "Vary the `epochs` and `batch_size` parameters"
   ]
  },
  {
   "cell_type": "code",
   "execution_count": 32,
   "metadata": {
    "scrolled": true,
    "tags": []
   },
   "outputs": [
    {
     "name": "stdout",
     "output_type": "stream",
     "text": [
      "Epoch 1/40\n",
      "30/30 [==============================] - 1s 19ms/step - loss: 0.0764 - val_loss: 0.0412\n",
      "Epoch 2/40\n",
      "30/30 [==============================] - 0s 5ms/step - loss: 0.0342 - val_loss: 0.0255\n",
      "Epoch 3/40\n",
      "30/30 [==============================] - 0s 5ms/step - loss: 0.0202 - val_loss: 0.0186\n",
      "Epoch 4/40\n",
      "30/30 [==============================] - 0s 10ms/step - loss: 0.0163 - val_loss: 0.0143\n",
      "Epoch 5/40\n",
      "30/30 [==============================] - 0s 9ms/step - loss: 0.0115 - val_loss: 0.0143\n",
      "Epoch 6/40\n",
      "30/30 [==============================] - 0s 9ms/step - loss: 0.0095 - val_loss: 0.0127\n",
      "Epoch 7/40\n",
      "30/30 [==============================] - 0s 11ms/step - loss: 0.0093 - val_loss: 0.0110\n",
      "Epoch 8/40\n",
      "30/30 [==============================] - 0s 6ms/step - loss: 0.0085 - val_loss: 0.0107\n",
      "Epoch 9/40\n",
      "30/30 [==============================] - 0s 11ms/step - loss: 0.0080 - val_loss: 0.0100\n",
      "Epoch 10/40\n",
      "30/30 [==============================] - 0s 9ms/step - loss: 0.0085 - val_loss: 0.0097\n",
      "Epoch 11/40\n",
      "30/30 [==============================] - 0s 14ms/step - loss: 0.0075 - val_loss: 0.0096\n",
      "Epoch 12/40\n",
      "30/30 [==============================] - 0s 5ms/step - loss: 0.0074 - val_loss: 0.0096\n",
      "Epoch 13/40\n",
      "30/30 [==============================] - 0s 6ms/step - loss: 0.0071 - val_loss: 0.0094\n",
      "Epoch 14/40\n",
      "30/30 [==============================] - 0s 10ms/step - loss: 0.0069 - val_loss: 0.0090\n",
      "Epoch 15/40\n",
      "30/30 [==============================] - 0s 9ms/step - loss: 0.0067 - val_loss: 0.0080\n",
      "Epoch 16/40\n",
      "30/30 [==============================] - 0s 7ms/step - loss: 0.0058 - val_loss: 0.0078\n",
      "Epoch 17/40\n",
      "30/30 [==============================] - 0s 5ms/step - loss: 0.0073 - val_loss: 0.0081\n",
      "Epoch 18/40\n",
      "30/30 [==============================] - 0s 10ms/step - loss: 0.0069 - val_loss: 0.0075\n",
      "Epoch 19/40\n",
      "30/30 [==============================] - 0s 7ms/step - loss: 0.0063 - val_loss: 0.0075\n",
      "Epoch 20/40\n",
      "30/30 [==============================] - 0s 10ms/step - loss: 0.0053 - val_loss: 0.0083\n",
      "Epoch 21/40\n",
      "30/30 [==============================] - 0s 9ms/step - loss: 0.0056 - val_loss: 0.0075\n",
      "Epoch 22/40\n",
      "30/30 [==============================] - 0s 9ms/step - loss: 0.0057 - val_loss: 0.0074\n",
      "Epoch 23/40\n",
      "30/30 [==============================] - 0s 10ms/step - loss: 0.0064 - val_loss: 0.0071\n",
      "Epoch 24/40\n",
      "30/30 [==============================] - 0s 9ms/step - loss: 0.0055 - val_loss: 0.0071\n",
      "Epoch 25/40\n",
      "30/30 [==============================] - 0s 10ms/step - loss: 0.0059 - val_loss: 0.0066\n",
      "Epoch 26/40\n",
      "30/30 [==============================] - 0s 10ms/step - loss: 0.0057 - val_loss: 0.0069\n",
      "Epoch 27/40\n",
      "30/30 [==============================] - 0s 10ms/step - loss: 0.0052 - val_loss: 0.0079\n",
      "Epoch 28/40\n",
      "30/30 [==============================] - 0s 12ms/step - loss: 0.0052 - val_loss: 0.0067\n",
      "Epoch 29/40\n",
      "30/30 [==============================] - 0s 10ms/step - loss: 0.0060 - val_loss: 0.0065\n",
      "Epoch 30/40\n",
      "30/30 [==============================] - 0s 15ms/step - loss: 0.0050 - val_loss: 0.0064\n",
      "Epoch 31/40\n",
      "30/30 [==============================] - 0s 9ms/step - loss: 0.0060 - val_loss: 0.0065\n",
      "Epoch 32/40\n",
      "30/30 [==============================] - 0s 9ms/step - loss: 0.0058 - val_loss: 0.0067\n",
      "Epoch 33/40\n",
      "30/30 [==============================] - 0s 5ms/step - loss: 0.0057 - val_loss: 0.0073\n",
      "Epoch 34/40\n",
      "30/30 [==============================] - 0s 10ms/step - loss: 0.0049 - val_loss: 0.0063\n",
      "Epoch 35/40\n",
      "30/30 [==============================] - 0s 9ms/step - loss: 0.0051 - val_loss: 0.0066\n",
      "Epoch 36/40\n",
      "30/30 [==============================] - 0s 10ms/step - loss: 0.0053 - val_loss: 0.0061\n",
      "Epoch 37/40\n",
      "30/30 [==============================] - 0s 8ms/step - loss: 0.0055 - val_loss: 0.0061\n",
      "Epoch 38/40\n",
      "30/30 [==============================] - 0s 10ms/step - loss: 0.0052 - val_loss: 0.0060\n",
      "Epoch 39/40\n",
      "30/30 [==============================] - 0s 10ms/step - loss: 0.0051 - val_loss: 0.0061\n",
      "Epoch 40/40\n",
      "30/30 [==============================] - 0s 6ms/step - loss: 0.0051 - val_loss: 0.0060\n"
     ]
    }
   ],
   "source": [
    "epochs_hist = model.fit(X_train, y_train, epochs=40, batch_size=10,  verbose=1, validation_split=0.2)"
   ]
  },
  {
   "cell_type": "markdown",
   "metadata": {},
   "source": [
    "# Evaluate the Model"
   ]
  },
  {
   "cell_type": "code",
   "execution_count": 33,
   "metadata": {},
   "outputs": [
    {
     "name": "stdout",
     "output_type": "stream",
     "text": [
      "dict_keys(['loss', 'val_loss'])\n"
     ]
    }
   ],
   "source": [
    "print(epochs_hist.history.keys())\n"
   ]
  },
  {
   "cell_type": "code",
   "execution_count": 34,
   "metadata": {},
   "outputs": [
    {
     "data": {
      "image/png": "[encoded data removed]",
      "text/plain": [
       "<Figure size 432x288 with 1 Axes>"
      ]
     },
     "metadata": {
      "needs_background": "light"
     },
     "output_type": "display_data"
    }
   ],
   "source": [
    "plt.plot(epochs_hist.history['loss'])\n",
    "plt.plot(epochs_hist.history['val_loss'])\n",
    "\n",
    "plt.title('Model Loss Progression During Training/Validation')\n",
    "plt.ylabel('Training and Validation Losses')\n",
    "plt.xlabel('Epoch Number')\n",
    "plt.legend(['Training Loss', 'Validation Loss']);\n"
   ]
  },
  {
   "cell_type": "markdown",
   "metadata": {},
   "source": [
    "## Make a prediction"
   ]
  },
  {
   "cell_type": "code",
   "execution_count": 39,
   "metadata": {},
   "outputs": [
    {
     "data": {
      "text/plain": [
       "array([[1.        , 0.6       , 0.93125   , 1.        , 0.87491564]])"
      ]
     },
     "execution_count": 39,
     "metadata": {},
     "output_type": "execute_result"
    }
   ],
   "source": [
    "# Gender, Age, Annual Salary, Credit Card Debt, Net Worth\n",
    "X_Testing = np.array([[1, 50, 94500, 20000, 5000]])\n",
    "X_Testing_scaled = X_scaler.transform(X_Testing)\n",
    "X_Testing_scaled"
   ]
  },
  {
   "cell_type": "code",
   "execution_count": 40,
   "metadata": {},
   "outputs": [
    {
     "name": "stdout",
     "output_type": "stream",
     "text": [
      "Expected Purchase Amount= [[64844.03]]\n"
     ]
    }
   ],
   "source": [
    "y_predict_scaled = model.predict(X_Testing_scaled)\n",
    "y_predict = y_scaler.inverse_transform(y_predict_scaled)\n",
    "\n",
    "print('Expected Purchase Amount=', y_predict)"
   ]
  },
  {
   "cell_type": "markdown",
   "metadata": {},
   "source": [
    "# Predict the test data"
   ]
  },
  {
   "cell_type": "code",
   "execution_count": 41,
   "metadata": {},
   "outputs": [],
   "source": [
    "y_test_pred_scaled = model.predict(X_test)\n",
    "y_test_pred = y_scaler.inverse_transform(y_test_pred_scaled)\n",
    "y_test_actual = y_scaler.inverse_transform(y_test)"
   ]
  },
  {
   "cell_type": "code",
   "execution_count": 43,
   "metadata": {},
   "outputs": [
    {
     "data": {
      "image/png": "[encoded data removed]",
      "text/plain": [
       "<Figure size 432x288 with 1 Axes>"
      ]
     },
     "metadata": {
      "needs_background": "light"
     },
     "output_type": "display_data"
    }
   ],
   "source": [
    "plt.plot(y_test_actual, y_test_pred, '.')\n",
    "x = y = np.linspace(20000, 70000, 100)\n",
    "plt.plot(x, y, '-');"
   ]
  },
  {
   "cell_type": "code",
   "execution_count": null,
   "metadata": {},
   "outputs": [],
   "source": [
    "result_df = pd.DataFrame({'y_test_pred': pd.Series(y_test_pred.ravel()), 'y_test_actual': pd.Series(y_test_actual.ravel())})\n",
    "result_df['error'] = result_df['y_test_pred'] - result_df['y_test_actual']\n",
    "result_df"
   ]
  },
  {
   "cell_type": "markdown",
   "metadata": {},
   "source": [
    "# Vary the hyper parameters\n",
    "\n",
    "Vary the number of neurons and check the performance and the time taken to train the network"
   ]
  },
  {
   "cell_type": "code",
   "execution_count": null,
   "metadata": {},
   "outputs": [],
   "source": []
  }
 ],
 "metadata": {
  "kernelspec": {
   "display_name": "Python 3",
   "language": "python",
   "name": "python3"
  },
  "language_info": {
   "codemirror_mode": {
    "name": "ipython",
    "version": 3
   },
   "file_extension": ".py",
   "mimetype": "text/x-python",
   "name": "python",
   "nbconvert_exporter": "python",
   "pygments_lexer": "ipython3",
   "version": "3.8.8"
  },
  "widgets": {
   "state": {},
   "version": "1.1.2"
  }
 },
 "nbformat": 4,
 "nbformat_minor": 4
}
