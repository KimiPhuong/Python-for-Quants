{
 "cells": [
  {
   "cell_type": "markdown",
   "id": "261fab0b-3bab-438d-939a-80499561185e",
   "metadata": {},
   "source": [
    "# Maths Expressions"
   ]
  },
  {
   "cell_type": "code",
   "execution_count": null,
   "id": "e93c231d-07d5-4967-af6e-0f1c346bd899",
   "metadata": {},
   "outputs": [],
   "source": [
    "42 + 54"
   ]
  },
  {
   "cell_type": "code",
   "execution_count": null,
   "id": "643c238b-c6ab-42cd-95fd-8c464271dfb7",
   "metadata": {},
   "outputs": [],
   "source": [
    "42 - 54"
   ]
  },
  {
   "cell_type": "code",
   "execution_count": null,
   "id": "afe4dd86-9665-4e25-9d3b-6e7172b7685b",
   "metadata": {},
   "outputs": [],
   "source": [
    "42 * 54"
   ]
  },
  {
   "cell_type": "code",
   "execution_count": null,
   "id": "439ef2a7-a5b0-440d-bec3-6d37ac2fd9c7",
   "metadata": {},
   "outputs": [],
   "source": [
    "# This is regular division\n",
    "22 / 7\n",
    "\n",
    "# This is floor divsiion\n",
    "22 // 7 \n",
    "\n",
    "# This is the modulous operator\n",
    "22 % 7"
   ]
  },
  {
   "cell_type": "code",
   "execution_count": null,
   "id": "a6435839-634a-44ad-8abe-86ffe0854248",
   "metadata": {},
   "outputs": [],
   "source": [
    "3 ** 2"
   ]
  },
  {
   "cell_type": "code",
   "execution_count": null,
   "id": "f168162f-9c32-4ac5-9fdb-a093ff541f0c",
   "metadata": {},
   "outputs": [],
   "source": [
    "import math"
   ]
  },
  {
   "cell_type": "code",
   "execution_count": null,
   "id": "9c856558-af8f-4846-8258-64847bb081d6",
   "metadata": {},
   "outputs": [],
   "source": [
    "dir(math)\n",
    "\n",
    "math.factorial(5)\n",
    "\n",
    "math.gcd?\n",
    "\n",
    "math.tau"
   ]
  },
  {
   "cell_type": "markdown",
   "id": "f3549803-1d38-4230-964b-2fa922bd64a7",
   "metadata": {},
   "source": [
    "# Variables\n",
    "\n",
    "Built in DataTypes are\n",
    "\n",
    "- int\n",
    "- float\n",
    "- bool\n",
    "- str"
   ]
  },
  {
   "cell_type": "code",
   "execution_count": null,
   "id": "216bad09-22ea-4a29-ab59-95445a5e4683",
   "metadata": {},
   "outputs": [],
   "source": [
    "x = 42\n",
    "\n",
    "print(x)"
   ]
  },
  {
   "cell_type": "code",
   "execution_count": null,
   "id": "48b2da16-7823-4c62-81e7-97c814412765",
   "metadata": {},
   "outputs": [],
   "source": [
    "x = x**2\n",
    "\n",
    "print(x)"
   ]
  },
  {
   "cell_type": "code",
   "execution_count": null,
   "id": "ccbc8849-80c8-4015-ab57-7dd639ba14f4",
   "metadata": {},
   "outputs": [],
   "source": [
    "x = \"Hello World!!!\"\n",
    "\n",
    "print(x)"
   ]
  },
  {
   "cell_type": "code",
   "execution_count": null,
   "id": "ca33c8d7-317c-44ac-b77d-9f2090c33772",
   "metadata": {},
   "outputs": [],
   "source": [
    "type(x)"
   ]
  },
  {
   "cell_type": "code",
   "execution_count": null,
   "id": "2d0e6d47-3d4f-4d5d-8fc1-68fdae813342",
   "metadata": {},
   "outputs": [],
   "source": [
    "x = 42\n",
    "\n",
    "type(x)"
   ]
  },
  {
   "cell_type": "code",
   "execution_count": null,
   "id": "8a44b684-d488-4470-a61c-e923a7e6570f",
   "metadata": {},
   "outputs": [],
   "source": [
    "x = 22 / 7\n",
    "\n",
    "type(x)"
   ]
  },
  {
   "cell_type": "code",
   "execution_count": null,
   "id": "e9d2fcc1-2066-45ca-8b6d-637915cfd14b",
   "metadata": {},
   "outputs": [],
   "source": [
    "22 >= 7\n",
    "22 <= 7\n",
    "\n",
    "22 == 7\n",
    "22 != 7 \n",
    "\n",
    "x = 22 == 7"
   ]
  },
  {
   "cell_type": "code",
   "execution_count": null,
   "id": "3fbe8422-aee3-4179-a841-ad878397ff73",
   "metadata": {},
   "outputs": [],
   "source": [
    "type(x)"
   ]
  },
  {
   "cell_type": "markdown",
   "id": "b00a8a79-1d56-4311-82f5-6d282c9289ff",
   "metadata": {},
   "source": [
    "# Strings\n",
    "\n",
    "A sequence of unicode characters\n",
    "\n",
    "Strings are **IMMUTABLE** You cannot change them"
   ]
  },
  {
   "cell_type": "code",
   "execution_count": null,
   "id": "1b3cc68d-0e15-4a1a-bc78-f19d836818cd",
   "metadata": {},
   "outputs": [],
   "source": [
    "x = 'Hello World'\n",
    "\n",
    "y = \"Goodbye World\"\n"
   ]
  },
  {
   "cell_type": "code",
   "execution_count": null,
   "id": "bb713fcf-14d9-4f22-989e-bc7d83c6e585",
   "metadata": {},
   "outputs": [],
   "source": [
    "dir(x)\n",
    "x.endswith('LD')"
   ]
  },
  {
   "cell_type": "code",
   "execution_count": null,
   "id": "f86564fc-979f-456d-a73c-bd0d063e4f01",
   "metadata": {},
   "outputs": [],
   "source": [
    "x = 'Hello World'\n",
    "x = x.upper()\n",
    "res = x.endswith('ld')\n",
    "print('X ends with LD is', res)"
   ]
  },
  {
   "cell_type": "code",
   "execution_count": null,
   "id": "30aa5bec-85bb-47b7-b158-59795a3cdd9a",
   "metadata": {},
   "outputs": [],
   "source": [
    "print('X ends with LD is', 'Hello World'.upper().endswith('LD'))"
   ]
  },
  {
   "cell_type": "markdown",
   "id": "eb35109a-bb5b-4ae4-ae74-3ce893856f80",
   "metadata": {},
   "source": [
    "# Named Arguments"
   ]
  },
  {
   "cell_type": "code",
   "execution_count": null,
   "id": "46a5c27b-0428-4c96-bd18-0860ff0e8f1a",
   "metadata": {},
   "outputs": [],
   "source": [
    "x = 'USD,EUR,GBP,CHF,JPY,CAD'\n",
    "\n",
    "x.split(',')\n",
    "x.split(',', 2)\n",
    "\n",
    "x.split(sep=',')\n",
    "\n",
    "x.split(sep=',', maxsplit=2)\n",
    "\n",
    "x.split(maxsplit=3, sep=',')"
   ]
  },
  {
   "cell_type": "code",
   "execution_count": null,
   "id": "882eafb1-3029-4d25-a9ce-8413ec0213d7",
   "metadata": {},
   "outputs": [],
   "source": [
    "x = 'USD,EUR,GBP,CHF,JPY,CAD'\n",
    "\n",
    "x.split(maxsplit=3, sep=',')"
   ]
  },
  {
   "cell_type": "code",
   "execution_count": null,
   "id": "7b8c01e6-19c5-4fa9-9e9a-7c88023c4fd0",
   "metadata": {},
   "outputs": [],
   "source": [
    "ccys = x.split(sep=',')\n",
    "\n",
    "ccys\n",
    "\n",
    "type(ccys)"
   ]
  },
  {
   "cell_type": "markdown",
   "id": "57b2a4e8-0c33-4d1a-a324-9372ed6c5322",
   "metadata": {},
   "source": [
    "# Collections"
   ]
  },
  {
   "cell_type": "markdown",
   "id": "55a935ae-14c1-4952-8a1c-85ca0cdda5bc",
   "metadata": {},
   "source": [
    "## Lists\n",
    "\n",
    "- How to create - []\n",
    "- Do they retain order - Yes\n",
    "- Allow Duplicates - Yes\n",
    "- Heterogenous / Homogenous = `Heterogenous`\n",
    "- How to access elements - Use array subscript operator - op []\n",
    "- Are they mutable - YES"
   ]
  },
  {
   "cell_type": "code",
   "execution_count": null,
   "id": "65f32238-9129-4a3f-b2b6-d8ac994d5a61",
   "metadata": {},
   "outputs": [],
   "source": [
    "lst1 = []\n",
    "\n",
    "lst1 = [1,2,3,4,5,6]\n",
    "\n",
    "lst1 = [6,5,4,3,2,1]\n",
    "\n",
    "lst1 = [1,2,3,4,5,6,1,2,3,4,5,6,1,2,3,4,5,6]\n",
    "\n",
    "lst1 = [2, 3.14, False, 'Hello World', 3 + 4, 22/7, 42==54, [5,4,3,2,1], \"lorem ipsum\".upper(), str.upper]\n",
    "\n",
    "print(lst1[8])\n",
    "\n",
    "lst1[8] = 987 - 12 * 3\n",
    "\n",
    "print(lst1[8])\n"
   ]
  },
  {
   "cell_type": "code",
   "execution_count": null,
   "id": "756f154f-352a-4656-bac1-6e49631a9867",
   "metadata": {},
   "outputs": [],
   "source": [
    "type(lst1)\n",
    "\n",
    "lst1"
   ]
  },
  {
   "cell_type": "markdown",
   "id": "eba53a64-e97c-4c47-a3ee-0e430f740199",
   "metadata": {},
   "source": [
    "## Tuples\n",
    "\n",
    "Pronounced - too-ple\n",
    "- How to create - ()\n",
    "- Do they retain order - YES\n",
    "- Allow Duplicates - YES\n",
    "- Heterogenous / Homogenous - Heterogenous\n",
    "- How to access elements \n",
    "- Are they mutable - **YES YOU CANNOT CHANGE THEM**"
   ]
  },
  {
   "cell_type": "code",
   "execution_count": null,
   "id": "d799aa6e-d92e-41f5-8384-0f3c8545a98d",
   "metadata": {},
   "outputs": [],
   "source": [
    "tup1 = ()\n",
    "tup1 = (1,2,3,4,5,6)\n",
    "tup1 = (6,5,4,3,2,1)\n",
    "\n",
    "tup1 = (1,2,3,4,5,6,1,2,3,4,5,6,1,2,3,4,5,6,1,2,3,4,5,6,1,2,3,4,5,6)\n",
    "\n",
    "tup1 = (1, 22/3, \"LOREM IPSUM\".lower(), [1,2,3,4], math.sin, math.factorial(5))\n",
    "\n",
    "tup1[4](3.14 / 2)\n",
    "\n",
    "print(tup1[2])\n",
    "\n",
    "\n",
    "tup1[2]"
   ]
  },
  {
   "cell_type": "code",
   "execution_count": null,
   "id": "d2308aad-48b4-48f9-a344-f02a8eb1598b",
   "metadata": {},
   "outputs": [],
   "source": [
    "type(tup1)\n",
    "\n",
    "tup1"
   ]
  },
  {
   "cell_type": "markdown",
   "id": "55be4fc5-1487-4c3e-a24d-c244fd0401d2",
   "metadata": {},
   "source": [
    "## Set\n",
    "\n",
    "\n",
    "- How to create - use braces {}\n",
    "- Do they retain order - **NO**\n",
    "- Allow Duplicates - **NO**\n",
    "- Heterogenous / Homogenous - Heterogenous but only for Hashable values\n",
    "- How to access elements \n",
    "- Are they mutable - **YES** you can change them"
   ]
  },
  {
   "cell_type": "code",
   "execution_count": null,
   "id": "33343c71-2cf2-4959-baa9-aee8890c7de5",
   "metadata": {},
   "outputs": [],
   "source": [
    "s1 = {}\n",
    "\n",
    "s1 = {1,2,3,4,5,6}\n",
    "\n",
    "\n",
    "s1 = {6,5,4,3,2,1}\n",
    "\n",
    "s1 = {1,2,3,4,5,6,1,2,3,4,5,6,1,2,3,4,5,6,1,2,3,4,5,6}\n",
    "\n",
    "s1 = {9, 22/7, 44==2*22, 'Hello', str.upper, (1,2,3)}\n",
    "\n",
    "s1.add(42)\n",
    "s1.add(42)\n",
    "s1.add(42)\n",
    "s1.add(42)\n",
    "s1.add(42)\n",
    "\n",
    "s1.remove(42)\n",
    "\n",
    "s1.pop()"
   ]
  },
  {
   "cell_type": "markdown",
   "id": "8e37bb58-92a1-4f0a-b8de-2d17761c9f03",
   "metadata": {},
   "source": [
    "## Dictionaries\n",
    "\n",
    "Key **:** Value pair\n",
    "\n",
    "VLookups in Excel\n",
    "\n",
    "- How to create - {} use key : value\n",
    "- Do they retain order - It depends on version of python 3.6 retain order of key, < 3.6 - same rules as set\n",
    "- Allow Duplicates - No for keys, yes for values\n",
    "- Heterogenous / Homogenous - Heterogenous for hashable keys, Heterogenous for all values\n",
    "- How to access elements - use array subscript operator using a key\n",
    "- Are they mutable - "
   ]
  },
  {
   "cell_type": "code",
   "execution_count": null,
   "id": "1ef50eed-9dcf-4f12-8824-06dbe4f522d2",
   "metadata": {},
   "outputs": [],
   "source": [
    "d1 = {'EUR':.9, 'JPY': 120, \"BTC-USD\":25000, 'CHF':2.5, 'SGD':1.8}\n",
    "\n",
    "d1 = {'X': 10, 'L': 10, 5:'Five'}\n",
    "\n",
    "d1 = {'X': 10, 'L': [1,2,3,4,6], 42==54:'Boolean Key', (1, \"ABC\", 4):'Tuple', 42:'Forty Two'}\n",
    "\n",
    "d1[42] = 'LIIX'\n",
    "\n",
    "d1\n",
    "\n",
    "d1['CAD'] = 1.87\n",
    "\n",
    "d1\n",
    "\n",
    "\n",
    "d1['AUD']\n",
    "\n"
   ]
  },
  {
   "cell_type": "code",
   "execution_count": null,
   "id": "fac19457-caba-4e08-9974-38731d6a9b9c",
   "metadata": {},
   "outputs": [],
   "source": [
    "type(d1)"
   ]
  },
  {
   "cell_type": "markdown",
   "id": "0fb82cd3-93bf-40bb-9109-2bbfe63d8103",
   "metadata": {},
   "source": [
    "# Loops"
   ]
  },
  {
   "cell_type": "code",
   "execution_count": null,
   "id": "132b93aa-5b3e-448e-ae83-2c0637ea4b00",
   "metadata": {},
   "outputs": [],
   "source": [
    "words = 'Lorem Ipsum is simply dummy text of the printing and typesetting industry'.split()\n",
    "\n",
    "words"
   ]
  },
  {
   "cell_type": "code",
   "execution_count": null,
   "id": "2d095369-282a-4ade-95c8-70c621a23b6d",
   "metadata": {},
   "outputs": [],
   "source": [
    "for word in words:\n",
    "    print(word.upper())"
   ]
  },
  {
   "cell_type": "code",
   "execution_count": null,
   "id": "fb471f05-0cc0-4b0d-a80d-c8268c411c1f",
   "metadata": {},
   "outputs": [],
   "source": [
    "words_tup = tuple(words)\n",
    "\n",
    "for word in words_tup:\n",
    "    print(word.upper())"
   ]
  },
  {
   "cell_type": "code",
   "execution_count": null,
   "id": "d7773983-2006-4297-a8b0-14ae0af03fc5",
   "metadata": {},
   "outputs": [],
   "source": [
    "words_set = set(words)\n",
    "\n",
    "for word in words_set:\n",
    "    print(word)"
   ]
  },
  {
   "cell_type": "code",
   "execution_count": null,
   "id": "1a40ebda-6784-421c-8327-6c3d192b3546",
   "metadata": {},
   "outputs": [],
   "source": [
    "d1 = {\n",
    "    'CAD':1.87,\n",
    "    'AUD':2.42,\n",
    "    'EUR':.94,\n",
    "    'GBP': 0.89\n",
    "}\n"
   ]
  },
  {
   "cell_type": "code",
   "execution_count": null,
   "id": "b0918cf8-3640-4ea3-a8e2-110ec8d87510",
   "metadata": {},
   "outputs": [],
   "source": [
    "for item in d1:\n",
    "    print(item)"
   ]
  },
  {
   "cell_type": "code",
   "execution_count": null,
   "id": "6ae2ffd8-f8c9-458c-a765-5699496548e5",
   "metadata": {},
   "outputs": [],
   "source": [
    "for item in d1.items():\n",
    "    print(item)"
   ]
  },
  {
   "cell_type": "code",
   "execution_count": null,
   "id": "9c46d495-611c-46a7-a2b1-b963d039f89d",
   "metadata": {},
   "outputs": [],
   "source": [
    "for item in d1.keys():\n",
    "    print(item)"
   ]
  },
  {
   "cell_type": "code",
   "execution_count": null,
   "id": "d1e43a28-1000-4007-a0cf-1eb5e1a5ea72",
   "metadata": {},
   "outputs": [],
   "source": [
    "for item in d1.values():\n",
    "    print(item)"
   ]
  },
  {
   "cell_type": "markdown",
   "id": "3a316b2f-dacb-4d2a-b859-e949cc9bbf8e",
   "metadata": {},
   "source": [
    "# User Defined Functions\n",
    "\n",
    "D.R.Y."
   ]
  },
  {
   "cell_type": "code",
   "execution_count": null,
   "id": "503fb98b-aed5-42b6-96ec-0b8f2a5d5f3c",
   "metadata": {},
   "outputs": [],
   "source": [
    "o = 3\n",
    "a = 4\n",
    "\n",
    "h = math.sqrt(o**2 + a**2)\n",
    "\n",
    "print(h)"
   ]
  },
  {
   "cell_type": "code",
   "execution_count": null,
   "id": "1938a4ab-2d36-4c64-b719-5de9173625df",
   "metadata": {},
   "outputs": [],
   "source": [
    "def foo():\n",
    "    o = 3\n",
    "    a = 4\n",
    " \n",
    "    h = math.sqrt(o**2 + a**2)\n",
    "\n",
    "    print(h)\n"
   ]
  },
  {
   "cell_type": "code",
   "execution_count": null,
   "id": "58c99291-0288-4c95-b0c3-c432fe87f35a",
   "metadata": {},
   "outputs": [],
   "source": [
    "def foo(o, a): \n",
    "    h = math.sqrt(o**2 + a**2)\n",
    "    msg = 'False'\n",
    "    \n",
    "    if o == a:\n",
    "        msg = 'True'\n",
    "\n",
    "    print(h)\n",
    "    print('Are sides equal :', msg)\n",
    "    \n",
    "    p = o + a + h\n",
    "    print('Prem ', p)"
   ]
  },
  {
   "cell_type": "code",
   "execution_count": null,
   "id": "307ee25e-7c29-499e-bf24-b5073f6d9335",
   "metadata": {},
   "outputs": [],
   "source": [
    "foo(1,1)"
   ]
  },
  {
   "cell_type": "code",
   "execution_count": null,
   "id": "88522c02-1ade-4a1e-89c2-9573d753b309",
   "metadata": {},
   "outputs": [],
   "source": [
    "def foo(o, a): \n",
    "    h = math.sqrt(o**2 + a**2)\n",
    "    msg = 'False'\n",
    "    \n",
    "    if o == a:\n",
    "        msg = 'True'\n",
    "    \n",
    "    p = o + a + h\n",
    "    \n",
    "    # Packing a tuple\n",
    "    return h, msg, p"
   ]
  },
  {
   "cell_type": "code",
   "execution_count": null,
   "id": "9f963621-b587-4d17-b961-0274efd61fed",
   "metadata": {},
   "outputs": [],
   "source": [
    "# Unpacking a tuple\n",
    "hypot, is_issoc, perim = foo(1,1)\n",
    "\n",
    "print(hypot, is_issoc, perim)"
   ]
  },
  {
   "cell_type": "code",
   "execution_count": null,
   "id": "71d8c92b-4279-4888-a9be-62ddb4e3afdd",
   "metadata": {},
   "outputs": [],
   "source": [
    "for k, v in d1.items():\n",
    "    print(k, v)"
   ]
  },
  {
   "cell_type": "code",
   "execution_count": null,
   "id": "558aa30a-f02d-4a61-9593-03633b48f684",
   "metadata": {},
   "outputs": [],
   "source": [
    "para = \"\"\"\n",
    "Lorem Ipsum is simply dummy text of the printing and typesetting industry.\n",
    "Lorem Ipsum has been the industry's standard dummy text ever since the 1500s, \n",
    "when an unknown printer took a galley of type and scrambled it to make a type specimen book. \n",
    "It has survived not only five centuries, but also the leap into electronic typesetting, remaining essentially unchanged. \n",
    "It was popularised in the 1960s with the release of Letraset sheets containing Lorem Ipsum passages, \n",
    "and more recently with desktop publishing software like Aldus PageMaker including versions of Lorem Ipsum.\n",
    "\"\"\""
   ]
  },
  {
   "cell_type": "code",
   "execution_count": null,
   "id": "ab43b885-cf3d-41ad-bf30-278f24359719",
   "metadata": {},
   "outputs": [],
   "source": [
    "def is_len_gt_5(word):\n",
    "    res = False\n",
    "    \n",
    "    if len(word) > 5:\n",
    "        res = True\n",
    "        \n",
    "    return res"
   ]
  },
  {
   "cell_type": "code",
   "execution_count": null,
   "id": "a0405bf1-88e0-400a-9966-be0000e97258",
   "metadata": {},
   "outputs": [],
   "source": [
    "def is_len_gt_8(word):\n",
    "    return len(word) > 8\n"
   ]
  },
  {
   "cell_type": "code",
   "execution_count": null,
   "id": "1337d74b-7d4d-40dc-878a-30897e6c0c77",
   "metadata": {},
   "outputs": [],
   "source": [
    "long_words = []\n",
    "\n",
    "for word in para.split():\n",
    "    if (is_len_gt_8(word)):\n",
    "        long_words.append(word)\n",
    "        "
   ]
  },
  {
   "cell_type": "code",
   "execution_count": null,
   "id": "127b3740-d3b9-4462-9bf9-fbaaf4e34266",
   "metadata": {},
   "outputs": [],
   "source": [
    "long_words = [ word for word in para.split() if is_len_gt_8(word) ]\n",
    "long_words = ( word for word in para.split() if is_len_gt_8(word) )\n",
    "long_words = { word for word in para.split() if is_len_gt_8(word) }\n",
    "long_words = { word:len(word) for word in para.split() if is_len_gt_8(word) }\n",
    "\n",
    "\n",
    "print(long_words)"
   ]
  },
  {
   "cell_type": "raw",
   "id": "50c60669-42a0-47e6-b9a7-0f9871664ff1",
   "metadata": {},
   "source": [
    "nums = (41, 19, 12, 127, 13, 50, 98, 3)\n",
    "\n",
    "\n",
    "list_nums = [x*10 for x in nums if x >= 50 ]\n",
    "\n",
    "list_nums"
   ]
  },
  {
   "cell_type": "code",
   "execution_count": null,
   "id": "65788ce7-93b4-4cec-a0ab-5343b5f95b53",
   "metadata": {},
   "outputs": [],
   "source": [
    "long_words"
   ]
  },
  {
   "cell_type": "code",
   "execution_count": null,
   "id": "525d1af7-9029-457a-8ac6-bbc786f2f6d9",
   "metadata": {},
   "outputs": [],
   "source": []
  }
 ],
 "metadata": {
  "kernelspec": {
   "display_name": "Python 3",
   "language": "python",
   "name": "python3"
  },
  "language_info": {
   "codemirror_mode": {
    "name": "ipython",
    "version": 3
   },
   "file_extension": ".py",
   "mimetype": "text/x-python",
   "name": "python",
   "nbconvert_exporter": "python",
   "pygments_lexer": "ipython3",
   "version": "3.8.8"
  }
 },
 "nbformat": 4,
 "nbformat_minor": 5
}
