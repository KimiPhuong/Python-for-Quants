{
 "cells": [
  {
   "cell_type": "markdown",
   "id": "0ff34016-7028-4b33-9911-37f8aa642186",
   "metadata": {},
   "source": [
    "# Import packages"
   ]
  },
  {
   "cell_type": "code",
   "execution_count": null,
   "id": "b9955991-b16a-42ea-9895-a7a97326391e",
   "metadata": {},
   "outputs": [],
   "source": [
    "import pandas as pd"
   ]
  },
  {
   "cell_type": "markdown",
   "id": "c74aa445-9a97-4f3d-8a96-06b6207b5c39",
   "metadata": {},
   "source": [
    "# Import Data\n"
   ]
  },
  {
   "cell_type": "code",
   "execution_count": null,
   "id": "d681e388-4e1c-4e8a-90f6-e457f6fe66ff",
   "metadata": {},
   "outputs": [],
   "source": [
    "df = pd.read_excel(io='../Data/sample_data.xlsx', sheet_name='SP500', index_col='Symbol')"
   ]
  },
  {
   "cell_type": "code",
   "execution_count": null,
   "id": "5dfff810-8316-4020-baa3-bc761dd1e7f9",
   "metadata": {},
   "outputs": [],
   "source": [
    "df.head()\n",
    "df.tail()\n",
    "df.head(10)"
   ]
  },
  {
   "cell_type": "code",
   "execution_count": null,
   "id": "36b29e84-8ec5-427e-a11d-8abd1a3bb39c",
   "metadata": {},
   "outputs": [],
   "source": [
    "# Single String returns a Series\n",
    "df['Name']\n",
    "\n",
    "# List return a DataFrame\n",
    "df[ ['Name', 'Price'] ]\n",
    "\n",
    "df[ ['Name'] ]\n",
    "\n",
    "cols = ['Sector', 'Name', 'Price']\n",
    "df[cols]"
   ]
  },
  {
   "cell_type": "code",
   "execution_count": null,
   "id": "1182c218-39b0-4f08-b331-d806471d4310",
   "metadata": {},
   "outputs": [],
   "source": [
    "cols = ['Sector', 'Name', 'Price']\n",
    "df[cols]"
   ]
  },
  {
   "cell_type": "code",
   "execution_count": null,
   "id": "2be64b87-e89a-49fb-a2de-f33f37ef5708",
   "metadata": {},
   "outputs": [],
   "source": [
    "rows = ['META','AAPL','AMZN', 'NFLX', 'GOOGL']\n",
    "\n",
    "\n",
    "df.loc[rows]"
   ]
  },
  {
   "cell_type": "code",
   "execution_count": null,
   "id": "f1e00551-5627-4278-bf5c-81e268d6f06c",
   "metadata": {},
   "outputs": [],
   "source": [
    "df.loc[rows, cols]"
   ]
  },
  {
   "cell_type": "markdown",
   "id": "23b5ee6c-0afd-4d61-90a3-157b0eb76278",
   "metadata": {},
   "source": [
    "# Numpy"
   ]
  },
  {
   "cell_type": "code",
   "execution_count": null,
   "id": "0b36e9b7-8f38-4aec-9a0a-182c13579e5a",
   "metadata": {},
   "outputs": [],
   "source": [
    "import numpy as np"
   ]
  },
  {
   "cell_type": "code",
   "execution_count": null,
   "id": "2d70696e-f98c-4e44-93f2-9ddfe39e029c",
   "metadata": {},
   "outputs": [],
   "source": [
    "lst1 = [1,2,3,4,5]\n",
    "\n",
    "lst2 = [10,20,30,40,50]\n",
    "\n",
    "lst1 + lst2\n",
    "\n",
    "lst1 * 3\n"
   ]
  },
  {
   "cell_type": "code",
   "execution_count": null,
   "id": "bf6d469c-4118-4dbe-bb6f-e77fb1a81f3d",
   "metadata": {},
   "outputs": [],
   "source": [
    "arr1 = np.array(lst1)\n",
    "\n",
    "arr2 = np.array(lst2)"
   ]
  },
  {
   "cell_type": "code",
   "execution_count": null,
   "id": "d93ae1d9-c23a-40f6-af45-ee9d42f201fb",
   "metadata": {},
   "outputs": [],
   "source": [
    "arr1 * arr2\n",
    "\n",
    "\n",
    "arr2 ** arr1\n",
    "\n",
    "arr1 ** 3 == arr2"
   ]
  },
  {
   "cell_type": "code",
   "execution_count": null,
   "id": "e68e9f84-bd1f-45d2-9011-889b7f8bc561",
   "metadata": {},
   "outputs": [],
   "source": [
    "arr1 % 2 == 0"
   ]
  },
  {
   "cell_type": "code",
   "execution_count": null,
   "id": "21e8263b-64e3-4e57-942c-e31397d62c8d",
   "metadata": {},
   "outputs": [],
   "source": [
    "np.where(arr1 % 2 == 0, 'Even', 'Odd')"
   ]
  },
  {
   "cell_type": "code",
   "execution_count": null,
   "id": "3318946a-9553-4b09-aa23-a6c96871783d",
   "metadata": {},
   "outputs": [],
   "source": [
    "df['Range'] = df['52 Week High'] - df['52 Week Low']\n",
    "df['Recommendation'] = np.where(df['Range'] > 50, 'Buy', 'Sell')"
   ]
  },
  {
   "cell_type": "code",
   "execution_count": null,
   "id": "c96905ec-8c3d-4864-9a39-b9dd43744d79",
   "metadata": {},
   "outputs": [],
   "source": [
    "df.head()"
   ]
  },
  {
   "cell_type": "markdown",
   "id": "4dc4b972-9065-46ba-a9d3-be6a973f19d8",
   "metadata": {},
   "source": [
    "# Graphs & Charts"
   ]
  },
  {
   "cell_type": "code",
   "execution_count": null,
   "id": "dd29cc85-2aca-404f-8a30-346f5c60f73f",
   "metadata": {},
   "outputs": [],
   "source": [
    "cols = ['52 Week High', '52 Week Low']\n",
    "\n",
    "df.loc[rows, cols].plot(kind='barh')"
   ]
  },
  {
   "cell_type": "markdown",
   "id": "48b07be0-4c9d-4534-a9eb-0f1e6d1b219d",
   "metadata": {},
   "source": [
    "# Bollinger Bands\n"
   ]
  },
  {
   "cell_type": "code",
   "execution_count": null,
   "id": "15eeef95-0512-4cf4-9b1d-31023098c9df",
   "metadata": {},
   "outputs": [],
   "source": [
    "import pandas as pd\n",
    "import numpy as np"
   ]
  },
  {
   "cell_type": "code",
   "execution_count": null,
   "id": "1738c2c7-0824-4621-a1ad-c680dd54c960",
   "metadata": {},
   "outputs": [],
   "source": [
    "df = pd.read_excel(io='../Data/market_data.xlsx', sheet_name='AAPL', index_col='Date')\n",
    "\n",
    "df.tail()\n"
   ]
  },
  {
   "cell_type": "code",
   "execution_count": null,
   "id": "fba0e605-0250-43a0-88a0-75f658c437ae",
   "metadata": {},
   "outputs": [],
   "source": [
    "import yfinance as yf"
   ]
  },
  {
   "cell_type": "code",
   "execution_count": null,
   "id": "65f24569-a879-411e-b9bb-1d3b1d386f09",
   "metadata": {},
   "outputs": [],
   "source": [
    "df = yf.download(tickers='AAPL', start='2000-01-01')\n",
    "\n",
    "df.tail()"
   ]
  },
  {
   "cell_type": "code",
   "execution_count": null,
   "id": "9ac7341d-0432-4a3c-9888-222d4af82270",
   "metadata": {},
   "outputs": [],
   "source": [
    "df_BOLL = pd.DataFrame()"
   ]
  },
  {
   "cell_type": "code",
   "execution_count": null,
   "id": "cf0a1bf7-f06b-4cd1-a624-a41327239799",
   "metadata": {},
   "outputs": [],
   "source": [
    "df_BOLL['Price'] = df['Adj Close']\n",
    "df_BOLL['SMA(21)'] = df_BOLL['Price'].rolling(window=21).mean()\n",
    "df_BOLL['Upper'] = df_BOLL['SMA(21)'] + df_BOLL['Price'].rolling(window=21).std() * 2\n",
    "df_BOLL['Lower'] = df_BOLL['SMA(21)'] - df_BOLL['Price'].rolling(window=21).std() * 2"
   ]
  },
  {
   "cell_type": "code",
   "execution_count": null,
   "id": "53ec1eba-8a00-4683-9bf0-d5a093390f57",
   "metadata": {},
   "outputs": [],
   "source": [
    "df_BOLL.loc['2017-Mar':'2017-Dec'].plot()"
   ]
  },
  {
   "cell_type": "code",
   "execution_count": null,
   "id": "d478323c-bea5-4f03-b987-7b93969a68b0",
   "metadata": {},
   "outputs": [],
   "source": [
    "lst1 = [90, 21, 54, 87, 23, 64, 82, 127, 147, 180, 21, 9, 12, 42, 54]\n",
    "\n",
    "lst1"
   ]
  },
  {
   "cell_type": "markdown",
   "id": "319e72c4-d630-4d2a-ac60-a45c4eb83840",
   "metadata": {},
   "source": [
    "# Slicing"
   ]
  },
  {
   "cell_type": "code",
   "execution_count": null,
   "id": "fbedbda2-5a75-4443-8795-f8f73f250ccc",
   "metadata": {},
   "outputs": [],
   "source": [
    "lst1[3]\n",
    "\n",
    "lst1[3:9]\n",
    "\n",
    "lst1[:9]\n",
    "\n",
    "lst1[3:]\n",
    "\n",
    "lst1[:]"
   ]
  },
  {
   "cell_type": "code",
   "execution_count": null,
   "id": "616ca0af-a499-456e-b1f9-310ee639c237",
   "metadata": {},
   "outputs": [],
   "source": [
    "lst1[2:14:4]\n",
    "\n",
    "lst1[:14:2]\n",
    "\n",
    "lst1[2::2]\n",
    "\n",
    "lst1[::2]\n"
   ]
  },
  {
   "cell_type": "code",
   "execution_count": null,
   "id": "9061e922-e0d1-4ecb-adb4-927e908221de",
   "metadata": {},
   "outputs": [],
   "source": [
    "lst1[:-1]\n",
    "lst1[-1:]"
   ]
  },
  {
   "cell_type": "code",
   "execution_count": null,
   "id": "6e2f100d-9a27-4c3b-ae99-3735459acd79",
   "metadata": {},
   "outputs": [],
   "source": [
    "lst1[-1]"
   ]
  },
  {
   "cell_type": "code",
   "execution_count": null,
   "id": "10e210be-2f9b-4b06-92a4-62f6c030e7ce",
   "metadata": {},
   "outputs": [],
   "source": []
  }
 ],
 "metadata": {
  "kernelspec": {
   "display_name": "Python 3",
   "language": "python",
   "name": "python3"
  },
  "language_info": {
   "codemirror_mode": {
    "name": "ipython",
    "version": 3
   },
   "file_extension": ".py",
   "mimetype": "text/x-python",
   "name": "python",
   "nbconvert_exporter": "python",
   "pygments_lexer": "ipython3",
   "version": "3.8.8"
  }
 },
 "nbformat": 4,
 "nbformat_minor": 5
}
