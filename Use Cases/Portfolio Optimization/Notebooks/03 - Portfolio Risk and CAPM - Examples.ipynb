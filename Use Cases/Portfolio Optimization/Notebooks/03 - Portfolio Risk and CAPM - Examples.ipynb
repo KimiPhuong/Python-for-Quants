{
 "cells": [
  {
   "cell_type": "markdown",
   "metadata": {},
   "source": [
    "# Import the libraries"
   ]
  },
  {
   "cell_type": "code",
   "execution_count": null,
   "metadata": {},
   "outputs": [],
   "source": [
    "import pandas as pd\n",
    "import numpy as np\n",
    "import matplotlib.pyplot as plt\n",
    "%matplotlib inline\n",
    "\n",
    "from pandas.plotting import register_matplotlib_converters\n",
    "register_matplotlib_converters()"
   ]
  },
  {
   "cell_type": "markdown",
   "metadata": {},
   "source": [
    "# Import the Data\n",
    "\n",
    "2 Baskets of securities in the spreadsheet, PF1 and PF2\n",
    "\n",
    "In sheet PF1\n",
    "    a mix of stocks, commodities and stock indexes\n",
    "    Amazon, American Airlines, SP500, Euronext100, Gold, Oil\n",
    "    \n",
    "In sheet PF2\n",
    "    CenterPoint Energy(CNP), Ford, Walmart, General Electric, Tesla, Toyota\n",
    "    \n",
    "Change the sheet_name parameter below to be 'PF1' or 'PF2'"
   ]
  },
  {
   "cell_type": "markdown",
   "metadata": {},
   "source": [
    "## Either from a spreadhsheet\n"
   ]
  },
  {
   "cell_type": "code",
   "execution_count": null,
   "metadata": {},
   "outputs": [],
   "source": [
    "df = pd.read_excel(io='../Data/Portfolio.xlsx', sheet_name='PF2', index_col = 'Date')\n",
    "\n",
    "# Display the first 5 and last 5 rows\n",
    "pd.concat([df.head(), df.tail()])"
   ]
  },
  {
   "cell_type": "markdown",
   "metadata": {},
   "source": [
    "## Download from Yahoo Finance"
   ]
  },
  {
   "cell_type": "code",
   "execution_count": null,
   "metadata": {},
   "outputs": [],
   "source": [
    "import yfinance as yf\n",
    "\n",
    "stocks = 'FB BTC-USD AMZN NFLX GOOGL TSLA F JPM GLD'.split()\n",
    "df = yf.download(stocks, '2020-1-1')['Adj Close']\n",
    "\n",
    "df = df[-253:]\n",
    "\n",
    "df"
   ]
  },
  {
   "cell_type": "markdown",
   "metadata": {},
   "source": [
    "# Plot some Charts\n",
    "\n",
    "Nothing sophisticated, just enough to see how the various securities have performed"
   ]
  },
  {
   "cell_type": "code",
   "execution_count": null,
   "metadata": {},
   "outputs": [],
   "source": [
    "num_securities = len(df.columns)\n",
    "fig = plt.figure(figsize=(18,18))\n",
    "\n",
    "for i in range(0, num_securities):\n",
    "    ax = fig.add_subplot(4,3,i+1)\n",
    "    ax.set_title(df.columns[i])\n",
    "    ax.plot(df[df.columns[i]])\n",
    "\n",
    "plt.show()"
   ]
  },
  {
   "cell_type": "markdown",
   "metadata": {},
   "source": [
    "# Perform some calculations\n",
    "\n",
    "- Daily returns\n",
    "- Annual returns\n",
    "- Daily covariance of daily returns\n",
    "- Annual covariance of daily returns\n",
    "\n",
    "**Note** these do not beed to be for a year, they do need to be for the period in question"
   ]
  },
  {
   "cell_type": "code",
   "execution_count": null,
   "metadata": {},
   "outputs": [],
   "source": [
    "daily_ret = df.pct_change()\n",
    "\n",
    "NUM_DAYS = daily_ret.count()\n",
    "\n",
    "annual_ret = daily_ret.mean() * NUM_DAYS\n",
    "\n",
    "cov_daily = daily_ret.cov()\n",
    "\n",
    "cov_annual = cov_daily * NUM_DAYS"
   ]
  },
  {
   "cell_type": "markdown",
   "metadata": {},
   "source": [
    "# Calculate the Efficient frontier\n",
    "\n",
    "Obtained by simulating imaginary combinations of portfolios \n",
    "(50,000 portfolios of different combinations in this case)."
   ]
  },
  {
   "cell_type": "code",
   "execution_count": null,
   "metadata": {},
   "outputs": [],
   "source": [
    "# set the number of combinations for imaginary portfolios\n",
    "NUM_ASSETS = len(df.columns)\n",
    "NUM_PORTFOLIOS = 50000\n"
   ]
  },
  {
   "cell_type": "code",
   "execution_count": null,
   "metadata": {},
   "outputs": [],
   "source": [
    "# empty lists to store returns, volatility and weights of imiginary portfolios\n",
    "port_returns = []\n",
    "port_volatility = []\n",
    "stock_weights = []\n"
   ]
  },
  {
   "cell_type": "code",
   "execution_count": null,
   "metadata": {},
   "outputs": [],
   "source": [
    "# populate the empty lists with each portfolios returns,risk and weights\n",
    "\n",
    "for portfolio in range(NUM_PORTFOLIOS):\n",
    "    \n",
    "    weights = np.random.random(NUM_ASSETS)\n",
    "    weights /= np.sum(weights)\n",
    "    \n",
    "    returns = np.dot(weights, annual_ret)\n",
    "    \n",
    "    volatility = np.sqrt(np.dot(weights.T, np.dot(cov_annual, weights)))\n",
    "    \n",
    "    port_returns.append(returns)\n",
    "    port_volatility.append(volatility)\n",
    "    stock_weights.append(weights)\n",
    "    \n",
    "# Create a dictionary for Returns and Risk values of each portfolio\n",
    "portfolio = {'Returns': port_returns,\n",
    "             'Volatility': port_volatility}\n"
   ]
  },
  {
   "cell_type": "code",
   "execution_count": null,
   "metadata": {},
   "outputs": [],
   "source": [
    "# extend original dictionary to accomodate each ticker and weight in the portfolio\n",
    "assets = df.columns\n",
    "\n",
    "for counter,asset in enumerate(assets):\n",
    "    portfolio[asset+' Weight'] = [Weight[counter] for Weight in stock_weights]\n"
   ]
  },
  {
   "cell_type": "code",
   "execution_count": null,
   "metadata": {},
   "outputs": [],
   "source": [
    "# make a nice dataframe of the extended dictionary\n",
    "df_portfolio = pd.DataFrame(portfolio)\n",
    "\n",
    "df_portfolio.head()"
   ]
  },
  {
   "cell_type": "markdown",
   "metadata": {},
   "source": [
    "# Visualize the Efficient Frontier for this portfolio"
   ]
  },
  {
   "cell_type": "code",
   "execution_count": null,
   "metadata": {},
   "outputs": [],
   "source": [
    "plt.style.use('seaborn')\n",
    "df_portfolio.plot.scatter(x='Volatility', y='Returns', figsize=(10, 8), grid=True)\n",
    "\n",
    "plt.xlabel('Volatility (Std. Deviation)')\n",
    "plt.ylabel('Expected Returns')\n",
    "plt.title('Efficient Frontier')\n",
    "plt.show()"
   ]
  },
  {
   "cell_type": "markdown",
   "metadata": {},
   "source": [
    "# Calculate the Sharpe Ratio"
   ]
  },
  {
   "cell_type": "markdown",
   "metadata": {},
   "source": [
    "50,000 portfolios with different combinations of weights generated different expected returns and expected volatility. <BR>\n",
    "Each point lying on the line represents an optimal combination of assets in a portfolio that maximises the expected return for the given level of risk <BR>\n",
    "<BR><BR>\n",
    "If all points on the Efficient Frontier curve are optimal combinations\n",
    "- What is the optimal portfolio among the various optimal combinations? \n",
    "- What would even the criteria for choosing this *best of the best* combinations?\n",
    "    \n",
    "**Sharpe Ratio**<BR>\n",
    "Use the `Sharpe Ratio` to measure the performance of an investments returns given its risk.\n",
    "This ratio adjusts the returns of an investment which makes it possible to compare different investments on a scale that incorporates risk. <BR>\n",
    "Without this scale of comparison, it would be virtually impossible to compare different investments with different combinations and their accompanying risks and returns.\n",
    "    \n",
    "    \n",
    "The expected returns and returns of our simulated portfolios are already known. <BR>\n",
    "Repeat the above process but include a calculation their risk-adjusted returns (with the help of the Sharpe Ratio), and make a colour bar of the plots using the Sharpe Ratio as the colour map"
   ]
  },
  {
   "cell_type": "code",
   "execution_count": null,
   "metadata": {},
   "outputs": [],
   "source": [
    "# empty lists to store returns, volatility and weights of imiginary portfolios\n",
    "port_returns = []\n",
    "port_volatility = []\n",
    "stock_weights = []\n",
    "sharpe_ratio = []\n",
    "\n",
    "#set random seed for reproduction's sake\n",
    "np.random.seed(42)\n",
    "\n",
    "for portfolio in range(NUM_PORTFOLIOS):\n",
    "    \n",
    "    weights = np.random.random(NUM_ASSETS)\n",
    "    weights /= np.sum(weights)\n",
    "    \n",
    "    returns = np.dot(weights, annual_ret)\n",
    "    \n",
    "    volatility = np.sqrt(np.dot(weights.T, np.dot(cov_annual, weights)))\n",
    "    \n",
    "    sharpe = returns / volatility\n",
    "    sharpe_ratio.append(sharpe)\n",
    "    \n",
    "    port_returns.append(returns)\n",
    "    port_volatility.append(volatility)\n",
    "    stock_weights.append(weights)\n",
    "    \n",
    "# Create a dictionary for Returns and Risk values of each portfolio\n",
    "portfolio = {'Returns': port_returns,\n",
    "             'Volatility': port_volatility,\n",
    "             'Sharpe Ratio': sharpe_ratio}\n",
    "\n",
    "# extend original dictionary to accomodate each ticker and weight in the portfolio\n",
    "assets = df.columns\n",
    "\n",
    "for counter,asset in enumerate(assets):\n",
    "    portfolio[asset+' Weight'] = [Weight[counter] for Weight in stock_weights]\n",
    "    \n",
    "# make a nice dataframe of the extended dictionary\n",
    "df_portfolio = pd.DataFrame(portfolio)\n"
   ]
  },
  {
   "cell_type": "markdown",
   "metadata": {},
   "source": [
    "# Visualize the Efficient Frontier for this portfolio"
   ]
  },
  {
   "cell_type": "code",
   "execution_count": null,
   "metadata": {},
   "outputs": [],
   "source": [
    "plt.style.use('seaborn-dark')\n",
    "df_portfolio.plot.scatter(x='Volatility', y='Returns', c='Sharpe Ratio',\n",
    "                          cmap='RdYlGn', edgecolors='black', figsize=(10, 8), grid=True)\n",
    "plt.xlabel('Volatility (Std. Deviation)')\n",
    "plt.ylabel('Expected Returns')\n",
    "plt.title('Efficient Frontier')\n",
    "plt.show()"
   ]
  },
  {
   "cell_type": "markdown",
   "metadata": {},
   "source": [
    "# Locate the optimal Portfolio and least optimal portfilio\n"
   ]
  },
  {
   "cell_type": "code",
   "execution_count": null,
   "metadata": {},
   "outputs": [],
   "source": [
    "# find min Volatility & max sharpe values in the dataframe \n",
    "is_min_vol = df_portfolio['Volatility'] ==  df_portfolio['Volatility'].min()\n",
    "is_max_sharpe = df_portfolio['Sharpe Ratio'] == df_portfolio['Sharpe Ratio'].max()\n",
    "\n",
    "# use the min, max values to locate and create the two special portfolios\n",
    "max_sharpe_port = df_portfolio.loc[is_max_sharpe]\n",
    "min_vol_port = df_portfolio.loc[is_min_vol]\n",
    "\n",
    "# plot frontier, max sharpe & min Volatility values with a scatterplot\n",
    "plt.style.use('seaborn-dark')\n",
    "df_portfolio.plot.scatter(x='Volatility', y='Returns', c='Sharpe Ratio',\n",
    "                          cmap='RdYlGn', edgecolors='black', figsize=(10, 8), grid=True)\n",
    "plt.scatter(x=max_sharpe_port['Volatility'], y=max_sharpe_port['Returns'], c='red', marker='D', s=200)\n",
    "plt.scatter(x=min_vol_port['Volatility'], y=min_vol_port['Returns'], c='blue', marker='D', s=200 )\n",
    "plt.xlabel('Volatility (Std. Deviation)')\n",
    "plt.ylabel('Expected Returns')\n",
    "plt.title('Efficient Frontier')\n",
    "plt.show()"
   ]
  },
  {
   "cell_type": "markdown",
   "metadata": {},
   "source": [
    "To get specific details of these two special portfolios"
   ]
  },
  {
   "cell_type": "code",
   "execution_count": null,
   "metadata": {
    "scrolled": true
   },
   "outputs": [],
   "source": [
    "# print the details of the 2 special portfolios\n",
    "print(\"Portfolio for Risk Averse investors\")\n",
    "print(min_vol_port.transpose())\n",
    "\n",
    "print(\"\\n\\nPortfolio for Investors seeking max return\")\n",
    "print(max_sharpe_port.transpose())"
   ]
  },
  {
   "cell_type": "markdown",
   "metadata": {},
   "source": [
    "**Risk-averse investors** <BR>\n",
    "would construct the minimum volatility portfolio \n",
    "\n",
    "**Investors seeking maximum risk-adjusted return** <BR>\n",
    "would construct the max Sharpe Ratio portfolio "
   ]
  },
  {
   "cell_type": "code",
   "execution_count": null,
   "metadata": {},
   "outputs": [],
   "source": [
    "type(min_vol_port)"
   ]
  },
  {
   "cell_type": "code",
   "execution_count": null,
   "metadata": {},
   "outputs": [],
   "source": [
    "min_vol_port.index"
   ]
  },
  {
   "cell_type": "code",
   "execution_count": null,
   "metadata": {},
   "outputs": [],
   "source": [
    "min_vol_port.transpose().index.values"
   ]
  },
  {
   "cell_type": "code",
   "execution_count": null,
   "metadata": {},
   "outputs": [],
   "source": []
  }
 ],
 "metadata": {
  "kernelspec": {
   "display_name": "Python 3 (ipykernel)",
   "language": "python",
   "name": "python3"
  },
  "language_info": {
   "codemirror_mode": {
    "name": "ipython",
    "version": 3
   },
   "file_extension": ".py",
   "mimetype": "text/x-python",
   "name": "python",
   "nbconvert_exporter": "python",
   "pygments_lexer": "ipython3",
   "version": "3.9.12"
  }
 },
 "nbformat": 4,
 "nbformat_minor": 4
}
